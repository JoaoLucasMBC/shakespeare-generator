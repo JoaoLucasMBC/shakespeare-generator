{
 "cells": [
  {
   "cell_type": "code",
   "execution_count": 8,
   "metadata": {},
   "outputs": [],
   "source": [
    "import torch\n",
    "import torch.nn as nn\n",
    "import torch.nn.functional as F\n",
    "from tqdm import tqdm\n",
    "from torch.optim import Adam\n",
    "from torch.utils.data import DataLoader, TensorDataset, random_split\n",
    "\n",
    "import matplotlib.pyplot as plt\n",
    "import numpy as np\n",
    "import sentencepiece as spm\n",
    "from sacrebleu import corpus_bleu\n",
    "\n",
    "from utils import train_one_epoch, train_one_epoch_with_criterion, generate_sonnet, generate_sonnet_sampling, clean_generated_text\n",
    "from model import TransformerModel"
   ]
  },
  {
   "cell_type": "code",
   "execution_count": 3,
   "metadata": {},
   "outputs": [
    {
     "name": "stdout",
     "output_type": "stream",
     "text": [
      "Using device: cuda\n"
     ]
    }
   ],
   "source": [
    "# Define the device\n",
    "device = torch.device(\"cuda\" if torch.cuda.is_available() else \"cpu\")\n",
    "\n",
    "print(f\"Using device: {device}\")"
   ]
  },
  {
   "cell_type": "markdown",
   "metadata": {},
   "source": [
    "## Load Dataset"
   ]
  },
  {
   "cell_type": "code",
   "execution_count": 4,
   "metadata": {},
   "outputs": [
    {
     "name": "stderr",
     "output_type": "stream",
     "text": [
      "/tmp/ipykernel_6738/1759665292.py:1: FutureWarning: You are using `torch.load` with `weights_only=False` (the current default value), which uses the default pickle module implicitly. It is possible to construct malicious pickle data which will execute arbitrary code during unpickling (See https://github.com/pytorch/pytorch/blob/main/SECURITY.md#untrusted-models for more details). In a future release, the default value for `weights_only` will be flipped to `True`. This limits the functions that could be executed during unpickling. Arbitrary objects will no longer be allowed to be loaded via this mode unless they are explicitly allowlisted by the user via `torch.serialization.add_safe_globals`. We recommend you start setting `weights_only=True` for any use case where you don't have full control of the loaded file. Please open an issue on GitHub for any issues related to this experimental feature.\n",
      "  X, y = torch.load('./data/sonnets_data.pt')\n"
     ]
    },
    {
     "data": {
      "text/plain": [
       "tensor([[1989,   30, 3528,  ...,    0,    0,    0],\n",
       "        [  24,   10,  210,  ...,    0,    0,    0],\n",
       "        [  42,  210,  104,  ...,    0,    0,    0],\n",
       "        ...,\n",
       "        [  24,  335,  753,  ...,    0,    0,    0],\n",
       "        [  24,  186,    5,  ...,    0,    0,    0],\n",
       "        [  24, 2270,  240,  ...,    0,    0,    0]])"
      ]
     },
     "execution_count": 4,
     "metadata": {},
     "output_type": "execute_result"
    }
   ],
   "source": [
    "X, y = torch.load('./data/sonnets_data.pt')\n",
    "\n",
    "X"
   ]
  },
  {
   "cell_type": "code",
   "execution_count": 5,
   "metadata": {},
   "outputs": [
    {
     "data": {
      "text/plain": [
       "True"
      ]
     },
     "execution_count": 5,
     "metadata": {},
     "output_type": "execute_result"
    }
   ],
   "source": [
    "sp = spm.SentencePieceProcessor()\n",
    "sp.load('./tokenizer/my_tokenizer.model')"
   ]
  },
  {
   "cell_type": "code",
   "execution_count": 6,
   "metadata": {},
   "outputs": [],
   "source": [
    "dataset = TensorDataset(X, y)\n",
    "\n",
    "n = len(dataset)\n",
    "train_n = int(0.8 * n)\n",
    "val_n   = int(0.1 * n)\n",
    "test_n  = n - train_n - val_n\n",
    "\n",
    "train_ds, val_ds, test_ds = random_split(dataset, [train_n, val_n, test_n],\n",
    "                                         generator=torch.Generator().manual_seed(42))\n",
    "\n",
    "batch_size = 16  # Adjust based on GPU memory\n",
    "\n",
    "train_loader = DataLoader(train_ds, batch_size=batch_size, shuffle=True)\n",
    "val_loader = DataLoader(val_ds,   batch_size=batch_size, shuffle=False)\n",
    "test_loader = DataLoader(test_ds,  batch_size=batch_size, shuffle=False)"
   ]
  },
  {
   "cell_type": "code",
   "execution_count": 80,
   "metadata": {},
   "outputs": [],
   "source": [
    "model = TransformerModel(\n",
    "    vocab_size=4000, \n",
    "    seq_len=256, \n",
    "    embedding_dim=256, \n",
    "    num_heads=8, \n",
    "    num_layers=6, \n",
    "    dropout=0.1\n",
    ").to(device)\n",
    "\n",
    "optimizer = Adam(model.parameters(), lr=1e-4)"
   ]
  },
  {
   "cell_type": "code",
   "execution_count": 81,
   "metadata": {},
   "outputs": [
    {
     "name": "stdout",
     "output_type": "stream",
     "text": [
      "Epoch 001 — train_loss: 6.3697 | val_loss: 5.7876 | val_ppl: 326.23\n",
      "Epoch 002 — train_loss: 5.3258 | val_loss: 5.1653 | val_ppl: 175.09\n",
      "Epoch 003 — train_loss: 4.6861 | val_loss: 4.5421 | val_ppl: 93.88\n",
      "Epoch 004 — train_loss: 4.3564 | val_loss: 4.3757 | val_ppl: 79.50\n",
      "Epoch 005 — train_loss: 4.1863 | val_loss: 4.2942 | val_ppl: 73.28\n",
      "Epoch 006 — train_loss: 4.1402 | val_loss: 4.3259 | val_ppl: 75.64\n",
      "Epoch 007 — train_loss: 4.1616 | val_loss: 4.2568 | val_ppl: 70.59\n",
      "Epoch 008 — train_loss: 4.0164 | val_loss: 4.1924 | val_ppl: 66.18\n",
      "Epoch 009 — train_loss: 4.0175 | val_loss: 4.0350 | val_ppl: 56.54\n",
      "Epoch 010 — train_loss: 3.8942 | val_loss: 4.0065 | val_ppl: 54.95\n",
      "Epoch 011 — train_loss: 3.8417 | val_loss: 3.9997 | val_ppl: 54.58\n",
      "Epoch 012 — train_loss: 3.8459 | val_loss: 4.0161 | val_ppl: 55.48\n",
      "Epoch 013 — train_loss: 3.8563 | val_loss: 3.9519 | val_ppl: 52.03\n",
      "Epoch 014 — train_loss: 3.8008 | val_loss: 3.9688 | val_ppl: 52.92\n",
      "Epoch 015 — train_loss: 3.8059 | val_loss: 3.9475 | val_ppl: 51.80\n",
      "Epoch 016 — train_loss: 3.7857 | val_loss: 3.9219 | val_ppl: 50.49\n",
      "Epoch 017 — train_loss: 3.7657 | val_loss: 3.8834 | val_ppl: 48.59\n",
      "Epoch 018 — train_loss: 3.7239 | val_loss: 3.8693 | val_ppl: 47.91\n",
      "Epoch 019 — train_loss: 3.6984 | val_loss: 3.8647 | val_ppl: 47.69\n",
      "Epoch 020 — train_loss: 3.6760 | val_loss: 3.9053 | val_ppl: 49.66\n",
      "Epoch 021 — train_loss: 3.6967 | val_loss: 3.9186 | val_ppl: 50.33\n",
      "Epoch 022 — train_loss: 3.7218 | val_loss: 3.8603 | val_ppl: 47.48\n",
      "Epoch 023 — train_loss: 3.6799 | val_loss: 3.8356 | val_ppl: 46.32\n",
      "Epoch 024 — train_loss: 3.6327 | val_loss: 3.8284 | val_ppl: 45.99\n",
      "Epoch 025 — train_loss: 3.5962 | val_loss: 3.8112 | val_ppl: 45.20\n",
      "Epoch 026 — train_loss: 3.5716 | val_loss: 3.7960 | val_ppl: 44.52\n",
      "Epoch 027 — train_loss: 3.5425 | val_loss: 3.7519 | val_ppl: 42.60\n",
      "Epoch 028 — train_loss: 3.4943 | val_loss: 3.7290 | val_ppl: 41.64\n",
      "Epoch 029 — train_loss: 3.4376 | val_loss: 3.7443 | val_ppl: 42.28\n",
      "Epoch 030 — train_loss: 3.4199 | val_loss: 3.7067 | val_ppl: 40.72\n",
      "Epoch 031 — train_loss: 3.3703 | val_loss: 3.6732 | val_ppl: 39.38\n",
      "Epoch 032 — train_loss: 3.3536 | val_loss: 3.7095 | val_ppl: 40.83\n",
      "Epoch 033 — train_loss: 3.3184 | val_loss: 3.6468 | val_ppl: 38.35\n",
      "Epoch 034 — train_loss: 3.2558 | val_loss: 3.6174 | val_ppl: 37.24\n",
      "Epoch 035 — train_loss: 3.2272 | val_loss: 3.6658 | val_ppl: 39.09\n",
      "Epoch 036 — train_loss: 3.1872 | val_loss: 3.6107 | val_ppl: 36.99\n",
      "Epoch 037 — train_loss: 3.1666 | val_loss: 3.5842 | val_ppl: 36.02\n",
      "Epoch 038 — train_loss: 3.1131 | val_loss: 3.6257 | val_ppl: 37.55\n",
      "Epoch 039 — train_loss: 3.0854 | val_loss: 3.5716 | val_ppl: 35.58\n",
      "Epoch 040 — train_loss: 3.0436 | val_loss: 3.5650 | val_ppl: 35.34\n",
      "Epoch 041 — train_loss: 3.0348 | val_loss: 3.6980 | val_ppl: 40.37\n",
      "Epoch 042 — train_loss: 3.0423 | val_loss: 3.6073 | val_ppl: 36.87\n",
      "Epoch 043 — train_loss: 3.0205 | val_loss: 3.5662 | val_ppl: 35.38\n",
      "Epoch 044 — train_loss: 2.9799 | val_loss: 3.5388 | val_ppl: 34.42\n",
      "Epoch 045 — train_loss: 2.9161 | val_loss: 3.5684 | val_ppl: 35.46\n",
      "Epoch 046 — train_loss: 2.8662 | val_loss: 3.5536 | val_ppl: 34.94\n",
      "Epoch 047 — train_loss: 2.8058 | val_loss: 3.5286 | val_ppl: 34.08\n",
      "Epoch 048 — train_loss: 2.7775 | val_loss: 3.5539 | val_ppl: 34.95\n",
      "Epoch 049 — train_loss: 2.7561 | val_loss: 3.5102 | val_ppl: 33.45\n",
      "Epoch 050 — train_loss: 2.7038 | val_loss: 3.5247 | val_ppl: 33.94\n",
      "Epoch 051 — train_loss: 2.6575 | val_loss: 3.5493 | val_ppl: 34.79\n",
      "Epoch 052 — train_loss: 2.6306 | val_loss: 3.5271 | val_ppl: 34.02\n",
      "Epoch 053 — train_loss: 2.6112 | val_loss: 3.5359 | val_ppl: 34.33\n",
      "Epoch 054 — train_loss: 2.5763 | val_loss: 3.5076 | val_ppl: 33.37\n",
      "Epoch 055 — train_loss: 2.4925 | val_loss: 3.4999 | val_ppl: 33.11\n",
      "Epoch 056 — train_loss: 2.4301 | val_loss: 3.5251 | val_ppl: 33.96\n",
      "Epoch 057 — train_loss: 2.4128 | val_loss: 3.5626 | val_ppl: 35.25\n",
      "Epoch 058 — train_loss: 2.4098 | val_loss: 3.5659 | val_ppl: 35.37\n",
      "Epoch 059 — train_loss: 2.3587 | val_loss: 3.5139 | val_ppl: 33.58\n",
      "Epoch 060 — train_loss: 2.3110 | val_loss: 3.5196 | val_ppl: 33.77\n",
      "Epoch 061 — train_loss: 2.2490 | val_loss: 3.5564 | val_ppl: 35.04\n",
      "Epoch 062 — train_loss: 2.2083 | val_loss: 3.5607 | val_ppl: 35.19\n",
      "Epoch 063 — train_loss: 2.1728 | val_loss: 3.5688 | val_ppl: 35.47\n",
      "Epoch 064 — train_loss: 2.1334 | val_loss: 3.5726 | val_ppl: 35.61\n",
      "Epoch 065 — train_loss: 2.0839 | val_loss: 3.5689 | val_ppl: 35.48\n",
      "Epoch 066 — train_loss: 2.0634 | val_loss: 3.5609 | val_ppl: 35.19\n",
      "Epoch 067 — train_loss: 2.0549 | val_loss: 3.5572 | val_ppl: 35.06\n",
      "Epoch 068 — train_loss: 1.9651 | val_loss: 3.5842 | val_ppl: 36.03\n",
      "Epoch 069 — train_loss: 1.9162 | val_loss: 3.5526 | val_ppl: 34.90\n",
      "Epoch 070 — train_loss: 1.8754 | val_loss: 3.5441 | val_ppl: 34.61\n",
      "Epoch 071 — train_loss: 1.7665 | val_loss: 3.4901 | val_ppl: 32.79\n",
      "Epoch 072 — train_loss: 1.6805 | val_loss: 3.5169 | val_ppl: 33.68\n",
      "Epoch 073 — train_loss: 1.6467 | val_loss: 3.4509 | val_ppl: 31.53\n",
      "Epoch 074 — train_loss: 1.5967 | val_loss: 3.4642 | val_ppl: 31.95\n",
      "Epoch 075 — train_loss: 1.5628 | val_loss: 3.4454 | val_ppl: 31.36\n",
      "Epoch 076 — train_loss: 1.4924 | val_loss: 3.3829 | val_ppl: 29.46\n",
      "Epoch 077 — train_loss: 1.4071 | val_loss: 3.3449 | val_ppl: 28.36\n",
      "Epoch 078 — train_loss: 1.3335 | val_loss: 3.3209 | val_ppl: 27.69\n",
      "Epoch 079 — train_loss: 1.2538 | val_loss: 3.3377 | val_ppl: 28.16\n",
      "Epoch 080 — train_loss: 1.1839 | val_loss: 3.2488 | val_ppl: 25.76\n",
      "Epoch 081 — train_loss: 1.1423 | val_loss: 3.2329 | val_ppl: 25.35\n",
      "Epoch 082 — train_loss: 1.0737 | val_loss: 3.2106 | val_ppl: 24.79\n",
      "Epoch 083 — train_loss: 1.0171 | val_loss: 3.1547 | val_ppl: 23.45\n",
      "Epoch 084 — train_loss: 0.9255 | val_loss: 3.0569 | val_ppl: 21.26\n",
      "Epoch 085 — train_loss: 0.8722 | val_loss: 3.0248 | val_ppl: 20.59\n",
      "Epoch 086 — train_loss: 0.7991 | val_loss: 2.9927 | val_ppl: 19.94\n",
      "Epoch 087 — train_loss: 0.7383 | val_loss: 2.9421 | val_ppl: 18.96\n",
      "Epoch 088 — train_loss: 0.6651 | val_loss: 2.8875 | val_ppl: 17.95\n",
      "Epoch 089 — train_loss: 0.6228 | val_loss: 2.8477 | val_ppl: 17.25\n",
      "Epoch 090 — train_loss: 0.5763 | val_loss: 2.7843 | val_ppl: 16.19\n",
      "Epoch 091 — train_loss: 0.5248 | val_loss: 2.7452 | val_ppl: 15.57\n",
      "Epoch 092 — train_loss: 0.4923 | val_loss: 2.6806 | val_ppl: 14.59\n",
      "Epoch 093 — train_loss: 0.4345 | val_loss: 2.6196 | val_ppl: 13.73\n",
      "Epoch 094 — train_loss: 0.3699 | val_loss: 2.5834 | val_ppl: 13.24\n",
      "Epoch 095 — train_loss: 0.3376 | val_loss: 2.5364 | val_ppl: 12.63\n",
      "Epoch 096 — train_loss: 0.2942 | val_loss: 2.5018 | val_ppl: 12.20\n",
      "Epoch 097 — train_loss: 0.2677 | val_loss: 2.4789 | val_ppl: 11.93\n",
      "Epoch 098 — train_loss: 0.2283 | val_loss: 2.4529 | val_ppl: 11.62\n",
      "Epoch 099 — train_loss: 0.2024 | val_loss: 2.4323 | val_ppl: 11.38\n",
      "Epoch 100 — train_loss: 0.1800 | val_loss: 2.4165 | val_ppl: 11.21\n",
      "Epoch 101 — train_loss: 0.1659 | val_loss: 2.4038 | val_ppl: 11.07\n",
      "Epoch 102 — train_loss: 0.1526 | val_loss: 2.3752 | val_ppl: 10.75\n",
      "Epoch 103 — train_loss: 0.1390 | val_loss: 2.3706 | val_ppl: 10.70\n",
      "Epoch 104 — train_loss: 0.1293 | val_loss: 2.3347 | val_ppl: 10.33\n",
      "Epoch 105 — train_loss: 0.1134 | val_loss: 2.3096 | val_ppl: 10.07\n",
      "Epoch 106 — train_loss: 0.0964 | val_loss: 2.3034 | val_ppl: 10.01\n",
      "Epoch 107 — train_loss: 0.0864 | val_loss: 2.2857 | val_ppl: 9.83\n",
      "Epoch 108 — train_loss: 0.0809 | val_loss: 2.2602 | val_ppl: 9.59\n",
      "Epoch 109 — train_loss: 0.0716 | val_loss: 2.2477 | val_ppl: 9.47\n",
      "Epoch 110 — train_loss: 0.0621 | val_loss: 2.2344 | val_ppl: 9.34\n",
      "Epoch 111 — train_loss: 0.0548 | val_loss: 2.2192 | val_ppl: 9.20\n",
      "Epoch 112 — train_loss: 0.0491 | val_loss: 2.2085 | val_ppl: 9.10\n",
      "Epoch 113 — train_loss: 0.0448 | val_loss: 2.2016 | val_ppl: 9.04\n",
      "Epoch 114 — train_loss: 0.0413 | val_loss: 2.1936 | val_ppl: 8.97\n",
      "Epoch 115 — train_loss: 0.0383 | val_loss: 2.1858 | val_ppl: 8.90\n",
      "Epoch 116 — train_loss: 0.0358 | val_loss: 2.1799 | val_ppl: 8.85\n",
      "Epoch 117 — train_loss: 0.0334 | val_loss: 2.1738 | val_ppl: 8.79\n",
      "Epoch 118 — train_loss: 0.0318 | val_loss: 2.1667 | val_ppl: 8.73\n",
      "Epoch 119 — train_loss: 0.0296 | val_loss: 2.1598 | val_ppl: 8.67\n",
      "Epoch 120 — train_loss: 0.0282 | val_loss: 2.1548 | val_ppl: 8.63\n",
      "Epoch 121 — train_loss: 0.0266 | val_loss: 2.1506 | val_ppl: 8.59\n",
      "Epoch 122 — train_loss: 0.0252 | val_loss: 2.1456 | val_ppl: 8.55\n",
      "Epoch 123 — train_loss: 0.0240 | val_loss: 2.1398 | val_ppl: 8.50\n",
      "Epoch 124 — train_loss: 0.0229 | val_loss: 2.1340 | val_ppl: 8.45\n",
      "Epoch 125 — train_loss: 0.0220 | val_loss: 2.1299 | val_ppl: 8.41\n",
      "Epoch 126 — train_loss: 0.0209 | val_loss: 2.1269 | val_ppl: 8.39\n",
      "Epoch 127 — train_loss: 0.0200 | val_loss: 2.1230 | val_ppl: 8.36\n",
      "Epoch 128 — train_loss: 0.0191 | val_loss: 2.1190 | val_ppl: 8.32\n",
      "Epoch 129 — train_loss: 0.0184 | val_loss: 2.1138 | val_ppl: 8.28\n",
      "Epoch 130 — train_loss: 0.0177 | val_loss: 2.1091 | val_ppl: 8.24\n",
      "Epoch 131 — train_loss: 0.0171 | val_loss: 2.1058 | val_ppl: 8.21\n",
      "Epoch 132 — train_loss: 0.0164 | val_loss: 2.1018 | val_ppl: 8.18\n",
      "Epoch 133 — train_loss: 0.0156 | val_loss: 2.0978 | val_ppl: 8.15\n",
      "Epoch 134 — train_loss: 0.0152 | val_loss: 2.0943 | val_ppl: 8.12\n",
      "Epoch 135 — train_loss: 0.0145 | val_loss: 2.0905 | val_ppl: 8.09\n",
      "Epoch 136 — train_loss: 0.0141 | val_loss: 2.0872 | val_ppl: 8.06\n",
      "Epoch 137 — train_loss: 0.0137 | val_loss: 2.0831 | val_ppl: 8.03\n",
      "Epoch 138 — train_loss: 0.0132 | val_loss: 2.0789 | val_ppl: 8.00\n",
      "Epoch 139 — train_loss: 0.0128 | val_loss: 2.0753 | val_ppl: 7.97\n",
      "Epoch 140 — train_loss: 0.0124 | val_loss: 2.0715 | val_ppl: 7.94\n",
      "Epoch 141 — train_loss: 0.0119 | val_loss: 2.0684 | val_ppl: 7.91\n",
      "Epoch 142 — train_loss: 0.0115 | val_loss: 2.0660 | val_ppl: 7.89\n",
      "Epoch 143 — train_loss: 0.0112 | val_loss: 2.0633 | val_ppl: 7.87\n",
      "Epoch 144 — train_loss: 0.0109 | val_loss: 2.0605 | val_ppl: 7.85\n",
      "Epoch 145 — train_loss: 0.0105 | val_loss: 2.0581 | val_ppl: 7.83\n",
      "Epoch 146 — train_loss: 0.0103 | val_loss: 2.0556 | val_ppl: 7.81\n",
      "Epoch 147 — train_loss: 0.0100 | val_loss: 2.0524 | val_ppl: 7.79\n",
      "Epoch 148 — train_loss: 0.0096 | val_loss: 2.0483 | val_ppl: 7.75\n",
      "Epoch 149 — train_loss: 0.0093 | val_loss: 2.0445 | val_ppl: 7.73\n",
      "Epoch 150 — train_loss: 0.0092 | val_loss: 2.0416 | val_ppl: 7.70\n",
      "Epoch 151 — train_loss: 0.0088 | val_loss: 2.0386 | val_ppl: 7.68\n",
      "Epoch 152 — train_loss: 0.0087 | val_loss: 2.0361 | val_ppl: 7.66\n",
      "Epoch 153 — train_loss: 0.0084 | val_loss: 2.0340 | val_ppl: 7.64\n",
      "Epoch 154 — train_loss: 0.0082 | val_loss: 2.0314 | val_ppl: 7.62\n",
      "Epoch 155 — train_loss: 0.0080 | val_loss: 2.0284 | val_ppl: 7.60\n",
      "Epoch 156 — train_loss: 0.0078 | val_loss: 2.0261 | val_ppl: 7.58\n",
      "Epoch 157 — train_loss: 0.0076 | val_loss: 2.0234 | val_ppl: 7.56\n",
      "Epoch 158 — train_loss: 0.0074 | val_loss: 2.0206 | val_ppl: 7.54\n",
      "Epoch 159 — train_loss: 0.0072 | val_loss: 2.0182 | val_ppl: 7.52\n",
      "Epoch 160 — train_loss: 0.0071 | val_loss: 2.0161 | val_ppl: 7.51\n",
      "Epoch 161 — train_loss: 0.0069 | val_loss: 2.0135 | val_ppl: 7.49\n",
      "Epoch 162 — train_loss: 0.0067 | val_loss: 2.0111 | val_ppl: 7.47\n",
      "Epoch 163 — train_loss: 0.0065 | val_loss: 2.0089 | val_ppl: 7.46\n",
      "Epoch 164 — train_loss: 0.0065 | val_loss: 2.0061 | val_ppl: 7.43\n",
      "Epoch 165 — train_loss: 0.0063 | val_loss: 2.0032 | val_ppl: 7.41\n",
      "Epoch 166 — train_loss: 0.0061 | val_loss: 2.0009 | val_ppl: 7.40\n",
      "Epoch 167 — train_loss: 0.0060 | val_loss: 1.9990 | val_ppl: 7.38\n",
      "Epoch 168 — train_loss: 0.0058 | val_loss: 1.9967 | val_ppl: 7.36\n",
      "Epoch 169 — train_loss: 0.0057 | val_loss: 1.9946 | val_ppl: 7.35\n",
      "Epoch 170 — train_loss: 0.0056 | val_loss: 1.9924 | val_ppl: 7.33\n",
      "Epoch 171 — train_loss: 0.0055 | val_loss: 1.9899 | val_ppl: 7.32\n",
      "Epoch 172 — train_loss: 0.0054 | val_loss: 1.9874 | val_ppl: 7.30\n",
      "Epoch 173 — train_loss: 0.0052 | val_loss: 1.9853 | val_ppl: 7.28\n",
      "Epoch 174 — train_loss: 0.0051 | val_loss: 1.9839 | val_ppl: 7.27\n",
      "Epoch 175 — train_loss: 0.0050 | val_loss: 1.9823 | val_ppl: 7.26\n",
      "Epoch 176 — train_loss: 0.0049 | val_loss: 1.9802 | val_ppl: 7.24\n",
      "Epoch 177 — train_loss: 0.0048 | val_loss: 1.9780 | val_ppl: 7.23\n",
      "Epoch 178 — train_loss: 0.0047 | val_loss: 1.9755 | val_ppl: 7.21\n",
      "Epoch 179 — train_loss: 0.0046 | val_loss: 1.9733 | val_ppl: 7.19\n",
      "Epoch 180 — train_loss: 0.0045 | val_loss: 1.9712 | val_ppl: 7.18\n",
      "Epoch 181 — train_loss: 0.0044 | val_loss: 1.9698 | val_ppl: 7.17\n",
      "Epoch 182 — train_loss: 0.0043 | val_loss: 1.9686 | val_ppl: 7.16\n",
      "Epoch 183 — train_loss: 0.0042 | val_loss: 1.9664 | val_ppl: 7.14\n",
      "Epoch 184 — train_loss: 0.0042 | val_loss: 1.9646 | val_ppl: 7.13\n",
      "Epoch 185 — train_loss: 0.0041 | val_loss: 1.9628 | val_ppl: 7.12\n",
      "Epoch 186 — train_loss: 0.0040 | val_loss: 1.9608 | val_ppl: 7.10\n",
      "Epoch 187 — train_loss: 0.0039 | val_loss: 1.9591 | val_ppl: 7.09\n",
      "Epoch 188 — train_loss: 0.0038 | val_loss: 1.9569 | val_ppl: 7.08\n",
      "Epoch 189 — train_loss: 0.0038 | val_loss: 1.9553 | val_ppl: 7.07\n",
      "Epoch 190 — train_loss: 0.0037 | val_loss: 1.9541 | val_ppl: 7.06\n",
      "Epoch 191 — train_loss: 0.0036 | val_loss: 1.9521 | val_ppl: 7.04\n",
      "Epoch 192 — train_loss: 0.0035 | val_loss: 1.9498 | val_ppl: 7.03\n",
      "Epoch 193 — train_loss: 0.0035 | val_loss: 1.9479 | val_ppl: 7.01\n",
      "Epoch 194 — train_loss: 0.0034 | val_loss: 1.9463 | val_ppl: 7.00\n",
      "Epoch 195 — train_loss: 0.0034 | val_loss: 1.9450 | val_ppl: 6.99\n",
      "Epoch 196 — train_loss: 0.0033 | val_loss: 1.9439 | val_ppl: 6.99\n",
      "Epoch 197 — train_loss: 0.0032 | val_loss: 1.9418 | val_ppl: 6.97\n",
      "Epoch 198 — train_loss: 0.0032 | val_loss: 1.9398 | val_ppl: 6.96\n",
      "Epoch 199 — train_loss: 0.0031 | val_loss: 1.9381 | val_ppl: 6.95\n",
      "Epoch 200 — train_loss: 0.0031 | val_loss: 1.9365 | val_ppl: 6.93\n"
     ]
    }
   ],
   "source": [
    "patience = 50\n",
    "best_val_loss = float('inf')\n",
    "epochs_without_improvement = 0\n",
    "\n",
    "# Lists to track metrics\n",
    "train_losses = []\n",
    "val_losses = []\n",
    "val_ppls = []\n",
    "\n",
    "for epoch in range(1, 201):\n",
    "    # Train\n",
    "    model.train()\n",
    "    train_loss = train_one_epoch(model, device, sp, optimizer, train_loader)\n",
    "    train_losses.append(train_loss)\n",
    "    \n",
    "    # Validate\n",
    "    model.eval()\n",
    "    total_val_loss, total_tokens = 0.0, 0\n",
    "    with torch.no_grad():\n",
    "        for x_batch, y_batch in val_loader:\n",
    "            x_batch, y_batch = x_batch.to(device), y_batch.to(device)\n",
    "\n",
    "            # Forward pass\n",
    "            output = model(x_batch)  # output shape: (batch_size, seq_len, vocab_size)\n",
    "\n",
    "            # Flatten output and target tensors\n",
    "            output = output.view(-1, output.size(-1))  # Flatten to (batch_size * seq_len, vocab_size)\n",
    "            y_batch = y_batch.view(-1)  # Flatten to (batch_size * seq_len)\n",
    "\n",
    "            # Calculate loss\n",
    "            batch_loss = F.cross_entropy(output, y_batch, ignore_index=sp.pad_id()) \n",
    "            \n",
    "            nonpad_mask   = (y_batch != sp.pad_id())\n",
    "            batch_tokens  = nonpad_mask.sum().item()\n",
    "\n",
    "            batch_loss_sum = batch_loss.item() * batch_tokens\n",
    "\n",
    "            total_val_loss += batch_loss_sum\n",
    "            total_tokens += batch_tokens\n",
    "    \n",
    "    val_loss = total_val_loss / total_tokens\n",
    "    val_ppl  = np.exp(val_loss)\n",
    "    val_losses.append(val_loss)\n",
    "    val_ppls.append(val_ppl)\n",
    "    \n",
    "    print(f\"Epoch {epoch:03d} — train_loss: {train_loss:.4f} | \"\n",
    "          f\"val_loss: {val_loss:.4f} | val_ppl: {val_ppl:.2f}\")\n",
    "    \n",
    "    if epoch % 50 == 0:\n",
    "        torch.save(model.state_dict(),\n",
    "                   f\"./model/checkpoint_epoch_{epoch:03d}_valloss_{val_loss:.4f}.pth\")\n",
    "    \n",
    "    # Early stop\n",
    "    if val_loss < best_val_loss:\n",
    "        best_val_loss = val_loss\n",
    "        epochs_without_improvement = 0\n",
    "    else:\n",
    "        epochs_without_improvement += 1\n",
    "        if epochs_without_improvement >= patience:\n",
    "            print(f\"\\nEarly stopping at epoch {epoch} \"\n",
    "                  f\"(no improvement in val_loss for {patience} epochs).\")\n",
    "            torch.save(model.state_dict(),\n",
    "                   f\"./model/checkpoint_epoch_{epoch:03d}_valloss_{val_loss:.4f}.pth\")\n",
    "            break"
   ]
  },
  {
   "cell_type": "code",
   "execution_count": 92,
   "metadata": {},
   "outputs": [
    {
     "name": "stdout",
     "output_type": "stream",
     "text": [
      "\n",
      "Conjunto de teste — loss: 1.8118 | perplexity: 6.12\n"
     ]
    }
   ],
   "source": [
    "model.eval()\n",
    "total_test_loss, total_tokens = 0.0, 0\n",
    "with torch.no_grad():\n",
    "    for x_batch, y_batch in test_loader:\n",
    "        x_batch = x_batch.to(device)\n",
    "        y_batch = y_batch.to(device)\n",
    "\n",
    "        output = model(x_batch)\n",
    "        bs, sl, vs = output.size()\n",
    "        output = output.view(-1, vs)\n",
    "        y_flat = y_batch.view(-1)\n",
    "\n",
    "        batch_loss = F.cross_entropy(\n",
    "            output,\n",
    "            y_flat,\n",
    "            ignore_index=sp.pad_id(),\n",
    "            reduction='mean'\n",
    "        )\n",
    "\n",
    "        nonpad_mask  = (y_flat != sp.pad_id())\n",
    "        batch_tokens = nonpad_mask.sum().item()\n",
    "        batch_loss_sum = batch_loss.item() * batch_tokens\n",
    "\n",
    "        total_test_loss += batch_loss_sum\n",
    "        total_tokens    += batch_tokens\n",
    "\n",
    "test_loss = total_test_loss / total_tokens\n",
    "test_ppl  = np.exp(test_loss)\n",
    "print(f\"\\nConjunto de teste — loss: {test_loss:.4f} | perplexity: {test_ppl:.2f}\")"
   ]
  },
  {
   "cell_type": "code",
   "execution_count": 83,
   "metadata": {},
   "outputs": [
    {
     "data": {
      "image/png": "[encoded data removed]",
      "text/plain": [
       "<Figure size 640x480 with 1 Axes>"
      ]
     },
     "metadata": {},
     "output_type": "display_data"
    }
   ],
   "source": [
    "plt.plot(train_losses, label='Training Loss')\n",
    "plt.plot(val_losses, label='Validation Loss')\n",
    "plt.xlabel('Epoch')\n",
    "plt.ylabel('Loss')\n",
    "plt.title('Training Loss Over Epochs')\n",
    "plt.legend()\n",
    "plt.grid()\n",
    "plt.show()"
   ]
  },
  {
   "cell_type": "code",
   "execution_count": 84,
   "metadata": {},
   "outputs": [
    {
     "data": {
      "image/png": "[encoded data removed]",
      "text/plain": [
       "<Figure size 640x480 with 1 Axes>"
      ]
     },
     "metadata": {},
     "output_type": "display_data"
    }
   ],
   "source": [
    "# Graph val_ppl\n",
    "plt.plot(val_ppls, label='Validation Perplexity')\n",
    "plt.xlabel('Epoch')\n",
    "plt.ylabel('Perplexity')\n",
    "plt.title('Validation Perplexity Over Epochs')\n",
    "plt.grid()\n",
    "plt.show()"
   ]
  },
  {
   "cell_type": "code",
   "execution_count": 85,
   "metadata": {},
   "outputs": [
    {
     "name": "stdout",
     "output_type": "stream",
     "text": [
      "Shall I compare thee I earth has been? \n",
      " When Aprild I shouldd grants defiant Ice? \n",
      " One claim? \n",
      "d such borrow I vain my wisdom- I am I should our destiny hurt in a reproach after myu me the seasons in this reproach Fortunad swiftly offering I should grace core \n",
      " I should wander far from this plight? veryd past mortal boundsly known? \n",
      " Detly reach swift peace stirmm still me how after should I am lost this lesson learn? \n",
      " Oh, should I reproach me endure  for I am brave-worn warrior? \n",
      " Truth. very woe, with haste, should I should falsehood, should \n",
      " I think on me thee. \n",
      " Of you, an unworthy dream cer at heaven'm confined bring let me I am growing. voyation of woe.\n"
     ]
    }
   ],
   "source": [
    "model.eval()\n",
    "\n",
    "start_text = \"Shall I compare thee\"\n",
    "raw = generate_sonnet(model, sp, start_text, max_length=256, device='cuda')\n",
    "generated_sonnet = clean_generated_text(raw, pad_token='<PAD>')\n",
    "print(generated_sonnet)"
   ]
  },
  {
   "cell_type": "markdown",
   "metadata": {},
   "source": [
    "## **What if we try some different starting words?**"
   ]
  },
  {
   "cell_type": "code",
   "execution_count": 91,
   "metadata": {},
   "outputs": [
    {
     "name": "stdout",
     "output_type": "stream",
     "text": [
      "Thy Th bright tears beauty end in shored  Though now lush praise for loss of all till praise, without him toxicned, denied, in tireed in an orphaned \n",
      "ed as de a? \n",
      " Now outwards guise for wisdom past unkindness too, like dais shines innumerable endured could I then fored,d gone? \n",
      " Fading all ailments with ardor Would ined upon my headgely the grounded inoliveded, for anew each charm of chance in this by actions wrought. \n",
      " So injust or stain; \n",
      " Expell? cityre outer than in suffering, now surrenders like a ghost not co in brightness twirled; Cultivate mercy for true image stirsup my fored or thrill. \n",
      " You live in retr is all so bright soul death and I entertained no more than before? Would this lesson wishity, all, which he in\n"
     ]
    }
   ],
   "source": [
    "model.eval()\n",
    "\n",
    "start_text = \"Thy\"\n",
    "raw = generate_sonnet(model, sp, start_text, max_length=256, device='cuda')\n",
    "generated_sonnet = clean_generated_text(raw, pad_token='<PAD>')\n",
    "print(generated_sonnet)"
   ]
  },
  {
   "cell_type": "markdown",
   "metadata": {},
   "source": [
    "## **Using a different type of distribution**"
   ]
  },
  {
   "cell_type": "code",
   "execution_count": 104,
   "metadata": {},
   "outputs": [
    {
     "name": "stdout",
     "output_type": "stream",
     "text": [
      "Thy all command image to heaven through tears gaze to heal' an wrought, every pretenseesting tohawl flow, wearyke\n",
      " Why beacon to reside, seek to Th to up time? inner self- to whispers request matter esteemed chosen to transcending \n",
      "est ardor age thee fest fast, wearyly spring's wrong granted yourself and monarchs bolded god, bare ever flworms dismiss with honor with pretense? painted the matter how My passion with grief,ly untold lack. \n",
      " Behold advance; let that left no trace; don. ceased forth each other on both pretense-spent, by ancient thread grace only brightation endured to convey behind he forever left hold, told: \"not thus, no close claimed young pursue torch begs between, address? \n",
      " Yourself in silence, without chaotic'tis could I aged? \n",
      " You, when the cosmos craft you keep thisch then through seared.\n"
     ]
    }
   ],
   "source": [
    "model.eval()\n",
    "\n",
    "start_text = \"Thy\"\n",
    "raw = generate_sonnet_sampling(model, sp, start_text, max_length=256, device='cuda')\n",
    "generated_sonnet = clean_generated_text(raw, pad_token='<PAD>')\n",
    "print(generated_sonnet)"
   ]
  },
  {
   "cell_type": "markdown",
   "metadata": {},
   "source": [
    "### BLEU Score on Test Set"
   ]
  },
  {
   "cell_type": "code",
   "execution_count": 7,
   "metadata": {},
   "outputs": [
    {
     "name": "stderr",
     "output_type": "stream",
     "text": [
      "/tmp/ipykernel_6738/2330225440.py:11: FutureWarning: You are using `torch.load` with `weights_only=False` (the current default value), which uses the default pickle module implicitly. It is possible to construct malicious pickle data which will execute arbitrary code during unpickling (See https://github.com/pytorch/pytorch/blob/main/SECURITY.md#untrusted-models for more details). In a future release, the default value for `weights_only` will be flipped to `True`. This limits the functions that could be executed during unpickling. Arbitrary objects will no longer be allowed to be loaded via this mode unless they are explicitly allowlisted by the user via `torch.serialization.add_safe_globals`. We recommend you start setting `weights_only=True` for any use case where you don't have full control of the loaded file. Please open an issue on GitHub for any issues related to this experimental feature.\n",
      "  model.load_state_dict(torch.load('./model/checkpoint_epoch_200_valloss_1.9365.pth'))\n"
     ]
    },
    {
     "data": {
      "text/plain": [
       "<All keys matched successfully>"
      ]
     },
     "execution_count": 7,
     "metadata": {},
     "output_type": "execute_result"
    }
   ],
   "source": [
    "# Load model\n",
    "model = TransformerModel(\n",
    "    vocab_size=4000, \n",
    "    seq_len=256, \n",
    "    embedding_dim=256, \n",
    "    num_heads=8, \n",
    "    num_layers=6, \n",
    "    dropout=0.1\n",
    ").to(device)\n",
    "\n",
    "model.load_state_dict(torch.load('./model/checkpoint_epoch_200_valloss_1.9365.pth'))"
   ]
  },
  {
   "cell_type": "code",
   "execution_count": 12,
   "metadata": {},
   "outputs": [
    {
     "name": "stdout",
     "output_type": "stream",
     "text": [
      "[\"ould be and you to grasp my plightal gleam, <LINE> When eyes's gallery?,s trans and flows my woe, <LINE> And should you feel of this season skill Of<LINE> Of noble, left in my wisdom to human you as; <LINE> Stealing real to the splendor of marks, <LINE> Though they may clea in the face of days, <LINE> Ha your for the world of corrupt, <LINE> In every of the love that left vibrant they. <LINE> Then thus on through fire, so ⁇  fortress: <LINE> ATruth.d notes <LINE>,, drawe the sovereign's sting, <LINE> Ahest woes, this para heart might remain <LINE> To stand among the lens of,ic s wegiding. <LINE> Yet, as he, bereft and grow woo,, <LINE> I'll restore forever for love, theirs for their trust false <LINE> <LINE><PAD><PAD><PAD><PAD><PAD><PAD><PAD><PAD><PAD><PAD><PAD><PAD><PAD><PAD><PAD><PAD><PAD><PAD><PAD><PAD><PAD><PAD><PAD><PAD><PAD><PAD><PAD><PAD><PAD><PAD><PAD><PAD><PAD><PAD><PAD><PAD><PAD><PAD><PAD><PAD><PAD><PAD><PAD><PAD><PAD><PAD><PAD><PAD><PAD><PAD><PAD><PAD><PAD><PAD><PAD> ⁇  ⁇  ⁇  ⁇  ⁇  ⁇  ⁇ ives\", \"adorationing that he is yours, I do disdain, <LINE> My solit is  moments by your souling fate, <LINE> I for aore., to your out, <LINE> Haing for the tide of my heart's delight. <LINE> But ratherither held you, nor he, aware me together, <LINE> For you arepeing, and he is too such; <LINE> Sti's artisted to extol as ail, like a tenfoldstmi <LINE> Parer the lostt th he me, andhake should. <LINE> The scent of your, you'll maintainrapture, <LINE> A triumphanter, you take all with a time in, <LINE> Alasmanding a friend's theft, for my spirit; <LINE> So I lose him, through my own defeat dream. <LINE> I have lost him, and now you were possess, <LINE> You pays clear debt,, to'll forced remain separate,.s such <LINE> <LINE><PAD><PAD><PAD><PAD><PAD><PAD><PAD><PAD><PAD><PAD><PAD><PAD><PAD><PAD><PAD><PAD><PAD><PAD><PAD><PAD><PAD><PAD><PAD><PAD><PAD><PAD><PAD><PAD><PAD><PAD><PAD><PAD><PAD><PAD><PAD><PAD><PAD><PAD><PAD><PAD><PAD><PAD><PAD> ⁇  ⁇  ⁇  ⁇  ⁇  ⁇  ⁇ nowing\", \"affection, the violeting of thy virtuees <LINE> The ground, the daysness of yours are <LINE> In time,, thoughts and regret, s I, <LINE> Frompe <LINE>, strength's destiny in surely fell. <LINE> <LINE> The gone on your face, the lowly in low lackly form, <LINE> Of form- from its onlit,ful; <LINE> By the sun's eph to, you'll come to write, <LINE> The fleeting re of your to the fabal notes. <LINE> <LINE> What worth, your essence, <LINE>ram. the thy lines? bears is, <LINE>  ⁇  ⁇  spread anew to reclaiming in your gild; <LINE> In ceaseless these lines, bothlmore and sweets, <LINE> Your legacyed shifting,, a cure to be error. <LINE> <LINE> In this oftagchanginging to me would find such<LINE>s time, <LINE> A fortress in to see visage,<PAD>?<PAD><LINE><PAD><LINE> Of<PAD><PAD><PAD><PAD><PAD><PAD><PAD><PAD><PAD><PAD><PAD><PAD><PAD><PAD><PAD><PAD><PAD><PAD><PAD><PAD><PAD><PAD><PAD><PAD><PAD><PAD><PAD><PAD><PAD><PAD><PAD><PAD><PAD> ⁇  ⁇  ⁇  ⁇  ⁇  ⁇  ⁇ ent\", \"unity's hue, black was never praised-, <LINE> Or if it shield, it offer then beauty's gentle; <LINE> Now black, as beauty's game,  chaster, <LINE> And beauty smeed by a false guise. <LINE> As long soul,s the artist's touch, <LINE> Adorning ugliness with false allure, <LINE> Sweet beauty finds no motion, no gentle,, <LINE> Ity, or scent in motion's reign. <LINE> A eyes' the oldned ire, her bears her delight, <LINE> Her gaze so bright, like mourn Nature in a dream, <LINE> At those who, not be the fair, extreme <LINE> Oolly beauty's grace both a deceitful canker. <LINE> In him's guise, they weep, and ignite,, <LINE> For beauty fade now retreat when thus should you glow.<PAD><PAD><PAD><PAD><PAD><PAD><PAD><PAD><PAD><PAD><PAD><PAD><PAD><PAD><PAD><PAD><PAD><PAD><PAD><PAD><PAD><PAD><PAD><PAD><PAD><PAD><PAD><PAD><PAD><PAD><PAD><PAD><PAD><PAD><PAD><PAD><PAD><PAD><PAD><PAD><PAD><PAD><PAD><PAD><PAD><PAD><PAD><PAD><PAD><PAD><PAD><PAD><PAD><PAD><PAD><PAD><PAD><PAD> ⁇  ⁇  ⁇  ⁇  ⁇  ⁇  ⁇ nowing\", 'In beast, why do you close <LINE> Your musiced grace, \" tobroad? <LINE> Your\\'s cap yearn, not to be heartsful <LINE> But in orly, , wealth. <LINE> So, extreme do the ancient you transcending, <LINE> Asing behind their own eyes,, <LINE> Your giftly,,ly so forth, <LINE> And let no ornament but one. <LINE> In ceaseless, you chance life away, <LINE> Anotherrish shadow, your essence worth,. <LINE> What and soar you give, and all day, <LINE> Sh the beauty you\\'ve senselye? <LINE> That flee beauty,<LINE> with you, <LINE> Unuld have busted life, no you, it pleas. <LINE> <LINE> Steal<PAD><PAD><PAD><PAD><PAD><PAD><PAD><PAD><PAD><PAD><PAD><PAD><PAD><PAD><PAD><PAD><PAD><PAD><PAD><PAD><PAD><PAD><PAD><PAD><PAD><PAD><PAD><PAD><PAD><PAD><PAD><PAD><PAD><PAD><PAD><PAD><PAD><PAD><PAD><PAD><PAD><PAD><PAD><PAD><PAD><PAD><PAD><PAD><PAD><PAD><PAD><PAD><PAD><PAD><PAD><PAD><PAD><PAD><PAD><PAD><PAD><PAD><PAD><PAD><PAD><PAD><PAD><PAD><PAD><PAD><PAD><PAD><PAD><PAD><PAD><PAD><PAD><PAD><PAD><PAD><PAD><PAD><PAD><PAD><PAD><PAD><PAD><PAD> ⁇  ⁇  ⁇  ⁇  ⁇  ⁇  ⁇ ent']\n",
      "['ould fate grant you to outlive my final breath, <LINE> When Death\\'s harsh scythe cuts down and claims my form, <LINE> And should you chance upon this humble wreath <LINE> Of words, left in my stead to keep you warm; <LINE> Compare them to the verse of present days, <LINE> Though they may falter in the face of new, <LINE> Preserve them for the sentiment I gave, <LINE> In honor of the love that once was true. <LINE> Then ponder on this thought, so tenderly: <LINE> \"Had he lived longer, borne the age\\'s fruit, <LINE> A greater gift than this his heart might see <LINE> To stand among the ranks of poetic sleuth. <LINE> Yet, as he left us and poets rise anew, <LINE> I\\'ll cherish his for love, theirs for their due.\" <LINE> <LINE><PAD><PAD><PAD><PAD><PAD><PAD><PAD><PAD><PAD><PAD><PAD><PAD><PAD><PAD><PAD><PAD><PAD><PAD><PAD><PAD><PAD><PAD><PAD><PAD><PAD><PAD><PAD><PAD><PAD><PAD><PAD><PAD><PAD><PAD><PAD><PAD><PAD><PAD><PAD><PAD><PAD><PAD><PAD><PAD><PAD><PAD><PAD><PAD><PAD><PAD><PAD><PAD><PAD><PAD><PAD> ⁇  ⁇  ⁇  ⁇  ⁇  ⁇  ⁇', \"revealing that he is yours, I make known, <LINE> My fate is sealed by your commanding might, <LINE> I forfeit myself, to your throne, <LINE> Yearning for the solace of my heart's delight. <LINE> But neither will you, nor he, grant us release, <LINE> For you are grasping, and he is too kind; <LINE> He's learned to write as a pledge, like a lease, <LINE> Under the weight that binds him, and keeps him confined. <LINE> The law of your beauty you'll enforce, <LINE> A usurer, you take all with a concealed claim, <LINE> Demanding a friend's payment, for my remorse; <LINE> So I lose him, through my own unworthy game. <LINE> I have lost him, and now you both possess, <LINE> He pays the debt, yet I'm still in this mess. <LINE> <LINE><PAD><PAD><PAD><PAD><PAD><PAD><PAD><PAD><PAD><PAD><PAD><PAD><PAD><PAD><PAD><PAD><PAD><PAD><PAD><PAD><PAD><PAD><PAD><PAD><PAD><PAD><PAD><PAD><PAD><PAD><PAD><PAD><PAD><PAD><PAD><PAD><PAD><PAD><PAD><PAD><PAD><PAD><PAD> ⁇  ⁇  ⁇  ⁇  ⁇  ⁇  ⁇\", \"mirror reveals the passing of thy charms, <LINE> The clock, the swift departure of your days; <LINE> In empty pages, thoughts and memories are swarms, <LINE> From this collection, wisdom's taste will surely raise. <LINE> <LINE> The lines on your face, the glass will candidly show, <LINE> Of whispered secrets from gaping graves will tell; <LINE> By the clock's shifting shadows, you'll come to know, <LINE> The fleeting march of time to the final knell. <LINE> <LINE> What escapes your mind, jot down on these empty sheets, <LINE>  ⁇ ive life anew to ideas conceived in your head; <LINE> In revisiting these lines, both profit and sweets, <LINE> Your enriched journal, a treasure to be read. <LINE> <LINE> In this oft-perused tome, find knowledge and delight, <LINE> A living testament to your intellectual flight. <LINE> <LINE><PAD><PAD><PAD><PAD><PAD><PAD><PAD><PAD><PAD><PAD><PAD><PAD><PAD><PAD><PAD><PAD><PAD><PAD><PAD><PAD><PAD><PAD><PAD><PAD><PAD><PAD><PAD><PAD><PAD><PAD><PAD><PAD><PAD><PAD> ⁇  ⁇  ⁇  ⁇  ⁇  ⁇  ⁇\", \"evening's hue, black was never prized, <LINE> Or if it were, it held not beauty's crown; <LINE> Now black, as beauty's heir, is much admired, <LINE> And beauty tarnished by a false renown. <LINE> As every soul adopts the artist's touch, <LINE> Adorning ugliness with false adorn, <LINE> Sweet beauty finds no shrine, no gentle clutch, <LINE> Defamed, or dwells in twilight's scorn. <LINE> My lady of the darkened sphere, she bears her pain, <LINE> Her gaze so somber, like mourners in a dream, <LINE> At those who, not begotten fair, obtain <LINE> False beauty's grace by a deceitful scheme. <LINE> In sorrow's guise, they weep, and rightly so, <LINE> For every tongue now murmurs: thus should beauty glow.<PAD><PAD><PAD><PAD><PAD><PAD><PAD><PAD><PAD><PAD><PAD><PAD><PAD><PAD><PAD><PAD><PAD><PAD><PAD><PAD><PAD><PAD><PAD><PAD><PAD><PAD><PAD><PAD><PAD><PAD><PAD><PAD><PAD><PAD><PAD><PAD><PAD><PAD><PAD><PAD><PAD><PAD><PAD><PAD><PAD><PAD><PAD><PAD><PAD><PAD><PAD><PAD><PAD><PAD><PAD><PAD><PAD><PAD> ⁇  ⁇  ⁇  ⁇  ⁇  ⁇  ⁇\", \"gal allure, why do you hoard <LINE> Your inherited grace, kept to yourself? <LINE> Nature's endowment is not to be stored, <LINE> But lent freely, multiplying wealth. <LINE> So, why withhold the riches you possess, <LINE> Denying others their own fair share? <LINE> Your miserly ways only bring distress, <LINE> And leave no legacy but despair. <LINE> In solitude, you squander life away, <LINE> Cheating yourself, your true worth unseen. <LINE> What account can you give, on judgment day, <LINE> For the beauty you've kept locked within? <LINE> That unused treasure, buried with you, <LINE> Could have brought life, had you set it free. <LINE> <LINE><PAD><PAD><PAD><PAD><PAD><PAD><PAD><PAD><PAD><PAD><PAD><PAD><PAD><PAD><PAD><PAD><PAD><PAD><PAD><PAD><PAD><PAD><PAD><PAD><PAD><PAD><PAD><PAD><PAD><PAD><PAD><PAD><PAD><PAD><PAD><PAD><PAD><PAD><PAD><PAD><PAD><PAD><PAD><PAD><PAD><PAD><PAD><PAD><PAD><PAD><PAD><PAD><PAD><PAD><PAD><PAD><PAD><PAD><PAD><PAD><PAD><PAD><PAD><PAD><PAD><PAD><PAD><PAD><PAD><PAD><PAD><PAD><PAD><PAD><PAD><PAD><PAD><PAD><PAD><PAD><PAD><PAD><PAD><PAD><PAD><PAD><PAD><PAD><PAD> ⁇  ⁇  ⁇  ⁇  ⁇  ⁇  ⁇\"]\n",
      "BLEU score (corpus) = 71.83\n"
     ]
    }
   ],
   "source": [
    "model.eval()\n",
    "\n",
    "test_references = []  \n",
    "test_hypotheses = []   \n",
    "\n",
    "with torch.no_grad():\n",
    "    for x_batch, y_batch in test_loader:\n",
    "        x_batch = x_batch.to(device)\n",
    "        y_batch = y_batch.to(device)\n",
    "\n",
    "        batch_size, seq_len = y_batch.size()\n",
    "        for i in range(batch_size):\n",
    "            # Convertemos para lista de ints\n",
    "            ref_ids = y_batch[i].tolist()\n",
    "\n",
    "            # Remover pads e truncar em <eos>\n",
    "            clean_ref_ids = []\n",
    "            for tid in ref_ids:\n",
    "                if tid == sp.pad_id():\n",
    "                    break\n",
    "                if tid == sp.eos_id():\n",
    "                    break\n",
    "                clean_ref_ids.append(tid)\n",
    "\n",
    "            # Decodificar em string\n",
    "            ref_text = sp.decode_ids(clean_ref_ids).strip()\n",
    "            test_references.append(ref_text)\n",
    "\n",
    "        output_logits = model(x_batch)   \n",
    "        \n",
    "        output_ids = output_logits.argmax(dim=-1) \n",
    "\n",
    "        for i in range(batch_size):\n",
    "            hyp_ids = output_ids[i].tolist()\n",
    "\n",
    "            clean_hyp_ids = []\n",
    "            for tid in hyp_ids:\n",
    "                if tid == sp.pad_id():\n",
    "                    break\n",
    "                clean_hyp_ids.append(tid)\n",
    "\n",
    "            hyp_text = sp.decode_ids(clean_hyp_ids).strip()\n",
    "            test_hypotheses.append(hyp_text)\n",
    "\n",
    "\n",
    "list_of_references = [test_references]\n",
    "\n",
    "bleu = corpus_bleu(test_hypotheses, list_of_references)\n",
    "\n",
    "print(test_hypotheses[:5])\n",
    "print(test_references[:5])\n",
    "print(f\"BLEU score (corpus) = {bleu.score:.2f}\")"
   ]
  },
  {
   "cell_type": "markdown",
   "metadata": {},
   "source": [
    "# **Valorization of Line Breaks and Rhymes**\n",
    "\n",
    "What if we insert in the dataset tokens for the rhymes and give them a bigger weight?"
   ]
  },
  {
   "cell_type": "code",
   "execution_count": 15,
   "metadata": {},
   "outputs": [],
   "source": [
    "model = TransformerModel(\n",
    "    vocab_size=4000, \n",
    "    seq_len=277, # This max len comes from the previous notebook\n",
    "    embedding_dim=256,\n",
    "    num_heads=8, \n",
    "    num_layers=6, \n",
    "    dropout=0.1\n",
    ").to(device)\n",
    "\n",
    "optimizer = Adam(model.parameters(), lr=1e-4)"
   ]
  },
  {
   "cell_type": "code",
   "execution_count": 13,
   "metadata": {},
   "outputs": [
    {
     "data": {
      "text/plain": [
       "True"
      ]
     },
     "execution_count": 13,
     "metadata": {},
     "output_type": "execute_result"
    }
   ],
   "source": [
    "sp = spm.SentencePieceProcessor()\n",
    "sp.load('./tokenizer/my_rhyme_tokenizer.model')"
   ]
  },
  {
   "cell_type": "code",
   "execution_count": 14,
   "metadata": {},
   "outputs": [
    {
     "name": "stderr",
     "output_type": "stream",
     "text": [
      "/tmp/ipykernel_6738/2971999727.py:1: FutureWarning: You are using `torch.load` with `weights_only=False` (the current default value), which uses the default pickle module implicitly. It is possible to construct malicious pickle data which will execute arbitrary code during unpickling (See https://github.com/pytorch/pytorch/blob/main/SECURITY.md#untrusted-models for more details). In a future release, the default value for `weights_only` will be flipped to `True`. This limits the functions that could be executed during unpickling. Arbitrary objects will no longer be allowed to be loaded via this mode unless they are explicitly allowlisted by the user via `torch.serialization.add_safe_globals`. We recommend you start setting `weights_only=True` for any use case where you don't have full control of the loaded file. Please open an issue on GitHub for any issues related to this experimental feature.\n",
      "  X, y = torch.load('./data/sonnets_rhymes_data.pt')\n"
     ]
    },
    {
     "data": {
      "text/plain": [
       "tensor([[1993,   37, 3529,  ...,    4,    4,    4],\n",
       "        [  31,   17,  214,  ...,    4,    4,    4],\n",
       "        [  49,  214,  113,  ...,    4,    4,    4],\n",
       "        ...,\n",
       "        [  31,  340,  717,  ...,    4,    4,    4],\n",
       "        [  31,  194,   12,  ...,    4,    4,    4],\n",
       "        [  31, 2269,  243,  ...,    4,    4,    4]])"
      ]
     },
     "execution_count": 14,
     "metadata": {},
     "output_type": "execute_result"
    }
   ],
   "source": [
    "X, y = torch.load('./data/sonnets_rhymes_data.pt')\n",
    "\n",
    "X"
   ]
  },
  {
   "cell_type": "code",
   "execution_count": 15,
   "metadata": {},
   "outputs": [],
   "source": [
    "dataset = TensorDataset(X, y)\n",
    "\n",
    "n = len(dataset)\n",
    "train_n = int(0.8 * n)\n",
    "val_n   = int(0.1 * n)\n",
    "test_n  = n - train_n - val_n\n",
    "\n",
    "train_ds, val_ds, test_ds = random_split(dataset, [train_n, val_n, test_n],\n",
    "                                         generator=torch.Generator().manual_seed(42))\n",
    "\n",
    "batch_size = 16  # Adjust based on GPU memory\n",
    "\n",
    "train_loader = DataLoader(train_ds, batch_size=batch_size, shuffle=True)\n",
    "val_loader = DataLoader(val_ds,   batch_size=batch_size, shuffle=False)\n",
    "test_loader = DataLoader(test_ds,  batch_size=batch_size, shuffle=False)"
   ]
  },
  {
   "cell_type": "code",
   "execution_count": 16,
   "metadata": {},
   "outputs": [],
   "source": [
    "vocab_size = sp.get_piece_size()\n",
    "weights = torch.ones(vocab_size, device=device)\n",
    "line_token_id = sp.piece_to_id('<LINE>')\n",
    "weights[line_token_id] = 5.0  # adjust multiplier as you like\n",
    "\n",
    "rhyme_classes = ['A', 'B', 'C', 'D', 'E', 'F', 'G']\n",
    "for rhyme in rhyme_classes:\n",
    "    token = f\"<rhyme_{rhyme}>\"\n",
    "    token_id = sp.piece_to_id(token)\n",
    "    weights[token_id] = 5.0  # same multiplier or adjust individually if desired\n",
    "\n",
    "# Define loss with weights and ignore pad token\n",
    "criterion = nn.CrossEntropyLoss(weight=weights, ignore_index=sp.pad_id())"
   ]
  },
  {
   "cell_type": "code",
   "execution_count": 20,
   "metadata": {},
   "outputs": [
    {
     "name": "stdout",
     "output_type": "stream",
     "text": [
      "Epoch 001 — train_loss: 5.9597 | val_loss: 4.8977 | val_ppl: 133.98\n",
      "Epoch 002 — train_loss: 4.5174 | val_loss: 4.2680 | val_ppl: 71.38\n",
      "Epoch 003 — train_loss: 4.0421 | val_loss: 3.8921 | val_ppl: 49.01\n",
      "Epoch 004 — train_loss: 3.7076 | val_loss: 3.6137 | val_ppl: 37.10\n",
      "Epoch 005 — train_loss: 3.4666 | val_loss: 3.4170 | val_ppl: 30.48\n",
      "Epoch 006 — train_loss: 3.2759 | val_loss: 3.2500 | val_ppl: 25.79\n",
      "Epoch 007 — train_loss: 3.1163 | val_loss: 3.1283 | val_ppl: 22.84\n",
      "Epoch 008 — train_loss: 3.0031 | val_loss: 3.0499 | val_ppl: 21.11\n",
      "Epoch 009 — train_loss: 2.9285 | val_loss: 2.9974 | val_ppl: 20.03\n",
      "Epoch 010 — train_loss: 2.8751 | val_loss: 2.9628 | val_ppl: 19.35\n",
      "Epoch 011 — train_loss: 2.8339 | val_loss: 2.9305 | val_ppl: 18.74\n",
      "Epoch 012 — train_loss: 2.7970 | val_loss: 2.9080 | val_ppl: 18.32\n",
      "Epoch 013 — train_loss: 2.7672 | val_loss: 2.8827 | val_ppl: 17.86\n",
      "Epoch 014 — train_loss: 2.7384 | val_loss: 2.8618 | val_ppl: 17.49\n",
      "Epoch 015 — train_loss: 2.7096 | val_loss: 2.8473 | val_ppl: 17.24\n",
      "Epoch 016 — train_loss: 2.6832 | val_loss: 2.8283 | val_ppl: 16.92\n",
      "Epoch 017 — train_loss: 2.6539 | val_loss: 2.8149 | val_ppl: 16.69\n",
      "Epoch 018 — train_loss: 2.6262 | val_loss: 2.7890 | val_ppl: 16.26\n",
      "Epoch 019 — train_loss: 2.5954 | val_loss: 2.7739 | val_ppl: 16.02\n",
      "Epoch 020 — train_loss: 2.5686 | val_loss: 2.7693 | val_ppl: 15.95\n",
      "Epoch 021 — train_loss: 2.5401 | val_loss: 2.7553 | val_ppl: 15.73\n",
      "Epoch 022 — train_loss: 2.5120 | val_loss: 2.7387 | val_ppl: 15.47\n",
      "Epoch 023 — train_loss: 2.4870 | val_loss: 2.7624 | val_ppl: 15.84\n",
      "Epoch 024 — train_loss: 2.4622 | val_loss: 2.7192 | val_ppl: 15.17\n",
      "Epoch 025 — train_loss: 2.4336 | val_loss: 2.7250 | val_ppl: 15.26\n",
      "Epoch 026 — train_loss: 2.4067 | val_loss: 2.7180 | val_ppl: 15.15\n",
      "Epoch 027 — train_loss: 2.3786 | val_loss: 2.7134 | val_ppl: 15.08\n",
      "Epoch 028 — train_loss: 2.3511 | val_loss: 2.7175 | val_ppl: 15.14\n",
      "Epoch 029 — train_loss: 2.3252 | val_loss: 2.7326 | val_ppl: 15.37\n",
      "Epoch 030 — train_loss: 2.3025 | val_loss: 2.7132 | val_ppl: 15.08\n",
      "Epoch 031 — train_loss: 2.2748 | val_loss: 2.7131 | val_ppl: 15.08\n",
      "Epoch 032 — train_loss: 2.2599 | val_loss: 2.7205 | val_ppl: 15.19\n",
      "Epoch 033 — train_loss: 2.2374 | val_loss: 2.7364 | val_ppl: 15.43\n",
      "Epoch 034 — train_loss: 2.2112 | val_loss: 2.7568 | val_ppl: 15.75\n",
      "Epoch 035 — train_loss: 2.1922 | val_loss: 2.7393 | val_ppl: 15.48\n",
      "Epoch 036 — train_loss: 2.1697 | val_loss: 2.7532 | val_ppl: 15.69\n",
      "Epoch 037 — train_loss: 2.1413 | val_loss: 2.7558 | val_ppl: 15.73\n",
      "Epoch 038 — train_loss: 2.1161 | val_loss: 2.7742 | val_ppl: 16.03\n",
      "Epoch 039 — train_loss: 2.0961 | val_loss: 2.7715 | val_ppl: 15.98\n",
      "Epoch 040 — train_loss: 2.0794 | val_loss: 2.8048 | val_ppl: 16.52\n",
      "Epoch 041 — train_loss: 2.0584 | val_loss: 2.8192 | val_ppl: 16.76\n",
      "Epoch 042 — train_loss: 2.0403 | val_loss: 2.8080 | val_ppl: 16.58\n",
      "Epoch 043 — train_loss: 2.0280 | val_loss: 2.8306 | val_ppl: 16.96\n",
      "Epoch 044 — train_loss: 2.0110 | val_loss: 2.8275 | val_ppl: 16.90\n",
      "Epoch 045 — train_loss: 1.9846 | val_loss: 2.8630 | val_ppl: 17.51\n",
      "Epoch 046 — train_loss: 1.9703 | val_loss: 2.8433 | val_ppl: 17.17\n",
      "Epoch 047 — train_loss: 1.9506 | val_loss: 2.8654 | val_ppl: 17.56\n",
      "Epoch 048 — train_loss: 1.9358 | val_loss: 2.8965 | val_ppl: 18.11\n",
      "Epoch 049 — train_loss: 1.9197 | val_loss: 2.8985 | val_ppl: 18.15\n",
      "Epoch 050 — train_loss: 1.9021 | val_loss: 2.8734 | val_ppl: 17.70\n",
      "Epoch 051 — train_loss: 1.8841 | val_loss: 2.8882 | val_ppl: 17.96\n",
      "Epoch 052 — train_loss: 1.8676 | val_loss: 2.9170 | val_ppl: 18.49\n",
      "Epoch 053 — train_loss: 1.8509 | val_loss: 2.9169 | val_ppl: 18.48\n",
      "Epoch 054 — train_loss: 1.8355 | val_loss: 2.9265 | val_ppl: 18.66\n",
      "Epoch 055 — train_loss: 1.8194 | val_loss: 2.9391 | val_ppl: 18.90\n",
      "Epoch 056 — train_loss: 1.8065 | val_loss: 2.9426 | val_ppl: 18.96\n",
      "Epoch 057 — train_loss: 1.7914 | val_loss: 2.9557 | val_ppl: 19.22\n",
      "Epoch 058 — train_loss: 1.7770 | val_loss: 2.9501 | val_ppl: 19.11\n",
      "Epoch 059 — train_loss: 1.7588 | val_loss: 2.9448 | val_ppl: 19.01\n",
      "Epoch 060 — train_loss: 1.7413 | val_loss: 2.9548 | val_ppl: 19.20\n",
      "Epoch 061 — train_loss: 1.7244 | val_loss: 2.9747 | val_ppl: 19.58\n",
      "Epoch 062 — train_loss: 1.7085 | val_loss: 2.9764 | val_ppl: 19.62\n",
      "Epoch 063 — train_loss: 1.6935 | val_loss: 2.9909 | val_ppl: 19.90\n",
      "Epoch 064 — train_loss: 1.6782 | val_loss: 2.9945 | val_ppl: 19.98\n",
      "Epoch 065 — train_loss: 1.6619 | val_loss: 3.0081 | val_ppl: 20.25\n",
      "Epoch 066 — train_loss: 1.6467 | val_loss: 2.9778 | val_ppl: 19.65\n",
      "Epoch 067 — train_loss: 1.6311 | val_loss: 3.0378 | val_ppl: 20.86\n",
      "Epoch 068 — train_loss: 1.6169 | val_loss: 3.0098 | val_ppl: 20.28\n",
      "Epoch 069 — train_loss: 1.5973 | val_loss: 3.0241 | val_ppl: 20.58\n",
      "Epoch 070 — train_loss: 1.5831 | val_loss: 3.0264 | val_ppl: 20.62\n",
      "Epoch 071 — train_loss: 1.5646 | val_loss: 3.0662 | val_ppl: 21.46\n",
      "Epoch 072 — train_loss: 1.5485 | val_loss: 3.0648 | val_ppl: 21.43\n",
      "Epoch 073 — train_loss: 1.5337 | val_loss: 3.0689 | val_ppl: 21.52\n",
      "Epoch 074 — train_loss: 1.5162 | val_loss: 3.0579 | val_ppl: 21.28\n",
      "Epoch 075 — train_loss: 1.5015 | val_loss: 3.0870 | val_ppl: 21.91\n",
      "Epoch 076 — train_loss: 1.4841 | val_loss: 3.0882 | val_ppl: 21.94\n",
      "Epoch 077 — train_loss: 1.4665 | val_loss: 3.0853 | val_ppl: 21.87\n",
      "Epoch 078 — train_loss: 1.4506 | val_loss: 3.1016 | val_ppl: 22.23\n",
      "Epoch 079 — train_loss: 1.4342 | val_loss: 3.0917 | val_ppl: 22.01\n",
      "Epoch 080 — train_loss: 1.4181 | val_loss: 3.1360 | val_ppl: 23.01\n",
      "Epoch 081 — train_loss: 1.4001 | val_loss: 3.1409 | val_ppl: 23.13\n",
      "Epoch 082 — train_loss: 1.3839 | val_loss: 3.1386 | val_ppl: 23.07\n",
      "Epoch 083 — train_loss: 1.3653 | val_loss: 3.1587 | val_ppl: 23.54\n",
      "Epoch 084 — train_loss: 1.3466 | val_loss: 3.1779 | val_ppl: 24.00\n",
      "Epoch 085 — train_loss: 1.3290 | val_loss: 3.1851 | val_ppl: 24.17\n",
      "Epoch 086 — train_loss: 1.3110 | val_loss: 3.2196 | val_ppl: 25.02\n",
      "Epoch 087 — train_loss: 1.2922 | val_loss: 3.2250 | val_ppl: 25.15\n",
      "Epoch 088 — train_loss: 1.2761 | val_loss: 3.2309 | val_ppl: 25.30\n",
      "Epoch 089 — train_loss: 1.2577 | val_loss: 3.2528 | val_ppl: 25.86\n",
      "Epoch 090 — train_loss: 1.2396 | val_loss: 3.2654 | val_ppl: 26.19\n",
      "Epoch 091 — train_loss: 1.2241 | val_loss: 3.2771 | val_ppl: 26.50\n",
      "Epoch 092 — train_loss: 1.2066 | val_loss: 3.2904 | val_ppl: 26.85\n",
      "Epoch 093 — train_loss: 1.1900 | val_loss: 3.2963 | val_ppl: 27.01\n",
      "Epoch 094 — train_loss: 1.1724 | val_loss: 3.2966 | val_ppl: 27.02\n",
      "Epoch 095 — train_loss: 1.1560 | val_loss: 3.3241 | val_ppl: 27.77\n",
      "Epoch 096 — train_loss: 1.1378 | val_loss: 3.3323 | val_ppl: 28.00\n",
      "Epoch 097 — train_loss: 1.1216 | val_loss: 3.3685 | val_ppl: 29.03\n",
      "Epoch 098 — train_loss: 1.1063 | val_loss: 3.3609 | val_ppl: 28.81\n",
      "Epoch 099 — train_loss: 1.0896 | val_loss: 3.3824 | val_ppl: 29.44\n",
      "Epoch 100 — train_loss: 1.0763 | val_loss: 3.3739 | val_ppl: 29.19\n",
      "Epoch 101 — train_loss: 1.0659 | val_loss: 3.3999 | val_ppl: 29.96\n",
      "Epoch 102 — train_loss: 1.0497 | val_loss: 3.3731 | val_ppl: 29.17\n",
      "Epoch 103 — train_loss: 1.0282 | val_loss: 3.3987 | val_ppl: 29.93\n",
      "Epoch 104 — train_loss: 1.0094 | val_loss: 3.3776 | val_ppl: 29.30\n",
      "Epoch 105 — train_loss: 0.9906 | val_loss: 3.4172 | val_ppl: 30.48\n",
      "Epoch 106 — train_loss: 0.9719 | val_loss: 3.4217 | val_ppl: 30.62\n",
      "Epoch 107 — train_loss: 0.9571 | val_loss: 3.4421 | val_ppl: 31.25\n",
      "Epoch 108 — train_loss: 0.9408 | val_loss: 3.4788 | val_ppl: 32.42\n",
      "Epoch 109 — train_loss: 0.9257 | val_loss: 3.5028 | val_ppl: 33.21\n",
      "Epoch 110 — train_loss: 0.9100 | val_loss: 3.4716 | val_ppl: 32.19\n",
      "Epoch 111 — train_loss: 0.8947 | val_loss: 3.5054 | val_ppl: 33.30\n",
      "Epoch 112 — train_loss: 0.8771 | val_loss: 3.5213 | val_ppl: 33.83\n",
      "Epoch 113 — train_loss: 0.8638 | val_loss: 3.5460 | val_ppl: 34.67\n",
      "Epoch 114 — train_loss: 0.8481 | val_loss: 3.5373 | val_ppl: 34.37\n",
      "Epoch 115 — train_loss: 0.8303 | val_loss: 3.5470 | val_ppl: 34.71\n",
      "Epoch 116 — train_loss: 0.8160 | val_loss: 3.5825 | val_ppl: 35.96\n",
      "Epoch 117 — train_loss: 0.7992 | val_loss: 3.6175 | val_ppl: 37.25\n",
      "Epoch 118 — train_loss: 0.7854 | val_loss: 3.5875 | val_ppl: 36.14\n",
      "Epoch 119 — train_loss: 0.7710 | val_loss: 3.6174 | val_ppl: 37.24\n",
      "Epoch 120 — train_loss: 0.7538 | val_loss: 3.6437 | val_ppl: 38.23\n",
      "Epoch 121 — train_loss: 0.7390 | val_loss: 3.6442 | val_ppl: 38.25\n",
      "Epoch 122 — train_loss: 0.7255 | val_loss: 3.6440 | val_ppl: 38.24\n",
      "Epoch 123 — train_loss: 0.7122 | val_loss: 3.6909 | val_ppl: 40.08\n",
      "Epoch 124 — train_loss: 0.6955 | val_loss: 3.6884 | val_ppl: 39.98\n",
      "Epoch 125 — train_loss: 0.6813 | val_loss: 3.7399 | val_ppl: 42.10\n",
      "Epoch 126 — train_loss: 0.6693 | val_loss: 3.7223 | val_ppl: 41.36\n",
      "Epoch 127 — train_loss: 0.6566 | val_loss: 3.7225 | val_ppl: 41.37\n",
      "Epoch 128 — train_loss: 0.6421 | val_loss: 3.7195 | val_ppl: 41.24\n",
      "Epoch 129 — train_loss: 0.6282 | val_loss: 3.7470 | val_ppl: 42.39\n",
      "Epoch 130 — train_loss: 0.6142 | val_loss: 3.7607 | val_ppl: 42.98\n",
      "Epoch 131 — train_loss: 0.6034 | val_loss: 3.7774 | val_ppl: 43.70\n",
      "Epoch 132 — train_loss: 0.5943 | val_loss: 3.7872 | val_ppl: 44.13\n",
      "Epoch 133 — train_loss: 0.5805 | val_loss: 3.7878 | val_ppl: 44.16\n",
      "Epoch 134 — train_loss: 0.5677 | val_loss: 3.7700 | val_ppl: 43.38\n",
      "Epoch 135 — train_loss: 0.5575 | val_loss: 3.7716 | val_ppl: 43.45\n",
      "Epoch 136 — train_loss: 0.5447 | val_loss: 3.7980 | val_ppl: 44.61\n",
      "Epoch 137 — train_loss: 0.5289 | val_loss: 3.8126 | val_ppl: 45.27\n",
      "Epoch 138 — train_loss: 0.5164 | val_loss: 3.8137 | val_ppl: 45.32\n",
      "Epoch 139 — train_loss: 0.5027 | val_loss: 3.8184 | val_ppl: 45.53\n",
      "Epoch 140 — train_loss: 0.4911 | val_loss: 3.8331 | val_ppl: 46.21\n",
      "Epoch 141 — train_loss: 0.4776 | val_loss: 3.8398 | val_ppl: 46.51\n",
      "Epoch 142 — train_loss: 0.4657 | val_loss: 3.8898 | val_ppl: 48.90\n",
      "Epoch 143 — train_loss: 0.4531 | val_loss: 3.8659 | val_ppl: 47.75\n",
      "Epoch 144 — train_loss: 0.4414 | val_loss: 3.8679 | val_ppl: 47.84\n",
      "Epoch 145 — train_loss: 0.4314 | val_loss: 3.9291 | val_ppl: 50.86\n",
      "Epoch 146 — train_loss: 0.4208 | val_loss: 3.9240 | val_ppl: 50.60\n",
      "Epoch 147 — train_loss: 0.4092 | val_loss: 3.9651 | val_ppl: 52.73\n",
      "Epoch 148 — train_loss: 0.3997 | val_loss: 3.9376 | val_ppl: 51.30\n",
      "Epoch 149 — train_loss: 0.3875 | val_loss: 3.9686 | val_ppl: 52.91\n",
      "Epoch 150 — train_loss: 0.3787 | val_loss: 3.9963 | val_ppl: 54.40\n",
      "Epoch 151 — train_loss: 0.3692 | val_loss: 3.9893 | val_ppl: 54.02\n",
      "Epoch 152 — train_loss: 0.3601 | val_loss: 3.9760 | val_ppl: 53.31\n",
      "Epoch 153 — train_loss: 0.3505 | val_loss: 3.9864 | val_ppl: 53.86\n",
      "Epoch 154 — train_loss: 0.3391 | val_loss: 3.9971 | val_ppl: 54.44\n",
      "Epoch 155 — train_loss: 0.3282 | val_loss: 3.9916 | val_ppl: 54.14\n",
      "Epoch 156 — train_loss: 0.3190 | val_loss: 4.0210 | val_ppl: 55.76\n",
      "Epoch 157 — train_loss: 0.3125 | val_loss: 4.0207 | val_ppl: 55.74\n",
      "Epoch 158 — train_loss: 0.3033 | val_loss: 3.9884 | val_ppl: 53.97\n",
      "Epoch 159 — train_loss: 0.2931 | val_loss: 4.0328 | val_ppl: 56.42\n",
      "Epoch 160 — train_loss: 0.2843 | val_loss: 4.0536 | val_ppl: 57.61\n",
      "Epoch 161 — train_loss: 0.2768 | val_loss: 4.0583 | val_ppl: 57.88\n",
      "Epoch 162 — train_loss: 0.2697 | val_loss: 4.0463 | val_ppl: 57.19\n",
      "Epoch 163 — train_loss: 0.2646 | val_loss: 4.0764 | val_ppl: 58.93\n",
      "Epoch 164 — train_loss: 0.2572 | val_loss: 4.0589 | val_ppl: 57.91\n",
      "Epoch 165 — train_loss: 0.2494 | val_loss: 4.0674 | val_ppl: 58.40\n",
      "Epoch 166 — train_loss: 0.2378 | val_loss: 4.0991 | val_ppl: 60.29\n",
      "Epoch 167 — train_loss: 0.2325 | val_loss: 4.0766 | val_ppl: 58.95\n",
      "Epoch 168 — train_loss: 0.2256 | val_loss: 4.0788 | val_ppl: 59.08\n",
      "Epoch 169 — train_loss: 0.2209 | val_loss: 4.0947 | val_ppl: 60.02\n",
      "Epoch 170 — train_loss: 0.2131 | val_loss: 4.1009 | val_ppl: 60.40\n",
      "Epoch 171 — train_loss: 0.2083 | val_loss: 4.1194 | val_ppl: 61.52\n",
      "Epoch 172 — train_loss: 0.1987 | val_loss: 4.1002 | val_ppl: 60.35\n",
      "Epoch 173 — train_loss: 0.1919 | val_loss: 4.1318 | val_ppl: 62.29\n",
      "Epoch 174 — train_loss: 0.1862 | val_loss: 4.1340 | val_ppl: 62.43\n",
      "Epoch 175 — train_loss: 0.1811 | val_loss: 4.1602 | val_ppl: 64.08\n",
      "Epoch 176 — train_loss: 0.1729 | val_loss: 4.1296 | val_ppl: 62.15\n",
      "Epoch 177 — train_loss: 0.1676 | val_loss: 4.1367 | val_ppl: 62.60\n",
      "Epoch 178 — train_loss: 0.1619 | val_loss: 4.1574 | val_ppl: 63.90\n",
      "Epoch 179 — train_loss: 0.1558 | val_loss: 4.1603 | val_ppl: 64.09\n",
      "Epoch 180 — train_loss: 0.1513 | val_loss: 4.1964 | val_ppl: 66.44\n",
      "Epoch 181 — train_loss: 0.1487 | val_loss: 4.1802 | val_ppl: 65.38\n",
      "Epoch 182 — train_loss: 0.1461 | val_loss: 4.1740 | val_ppl: 64.98\n",
      "Epoch 183 — train_loss: 0.1424 | val_loss: 4.1362 | val_ppl: 62.56\n",
      "Epoch 184 — train_loss: 0.1406 | val_loss: 4.0855 | val_ppl: 59.47\n",
      "Epoch 185 — train_loss: 0.1349 | val_loss: 4.1453 | val_ppl: 63.14\n",
      "Epoch 186 — train_loss: 0.1371 | val_loss: 4.0929 | val_ppl: 59.92\n",
      "Epoch 187 — train_loss: 0.1436 | val_loss: 4.1542 | val_ppl: 63.70\n",
      "Epoch 188 — train_loss: 0.1294 | val_loss: 4.0923 | val_ppl: 59.88\n",
      "Epoch 189 — train_loss: 0.1212 | val_loss: 4.0736 | val_ppl: 58.77\n",
      "Epoch 190 — train_loss: 0.1169 | val_loss: 4.0699 | val_ppl: 58.55\n",
      "Epoch 191 — train_loss: 0.1107 | val_loss: 4.1164 | val_ppl: 61.34\n",
      "Epoch 192 — train_loss: 0.1050 | val_loss: 4.0973 | val_ppl: 60.18\n",
      "Epoch 193 — train_loss: 0.1005 | val_loss: 4.1290 | val_ppl: 62.12\n",
      "Epoch 194 — train_loss: 0.0963 | val_loss: 4.1382 | val_ppl: 62.69\n",
      "Epoch 195 — train_loss: 0.0980 | val_loss: 4.1101 | val_ppl: 60.95\n",
      "Epoch 196 — train_loss: 0.0940 | val_loss: 4.1100 | val_ppl: 60.95\n",
      "Epoch 197 — train_loss: 0.0887 | val_loss: 4.1390 | val_ppl: 62.74\n",
      "Epoch 198 — train_loss: 0.0856 | val_loss: 4.1532 | val_ppl: 63.64\n",
      "Epoch 199 — train_loss: 0.0824 | val_loss: 4.1745 | val_ppl: 65.01\n",
      "Epoch 200 — train_loss: 0.0777 | val_loss: 4.1735 | val_ppl: 64.94\n"
     ]
    }
   ],
   "source": [
    "patience = 50\n",
    "best_val_loss = float('inf')\n",
    "epochs_without_improvement = 0\n",
    "\n",
    "# Lists to track metrics\n",
    "train_losses = []\n",
    "val_losses = []\n",
    "val_ppls = []\n",
    "\n",
    "for epoch in range(1, 201):\n",
    "    # Train\n",
    "    model.train()\n",
    "    train_loss = train_one_epoch_with_criterion(model, optimizer, device, criterion, train_loader)\n",
    "    train_losses.append(train_loss)\n",
    "    \n",
    "    # Validate\n",
    "    model.eval()\n",
    "    total_val_loss, total_tokens = 0.0, 0\n",
    "    with torch.no_grad():\n",
    "        for x_batch, y_batch in val_loader:\n",
    "            x_batch, y_batch = x_batch.to(device), y_batch.to(device)\n",
    "\n",
    "            # Forward pass\n",
    "            output = model(x_batch)  # output shape: (batch_size, seq_len, vocab_size)\n",
    "\n",
    "            # Flatten output and target tensors\n",
    "            output = output.view(-1, output.size(-1))  # Flatten to (batch_size * seq_len, vocab_size)\n",
    "            y_batch = y_batch.view(-1)  # Flatten to (batch_size * seq_len)\n",
    "\n",
    "            # Calculate loss\n",
    "            batch_loss = criterion(output, y_batch) \n",
    "            \n",
    "            nonpad_mask   = (y_batch != sp.pad_id())\n",
    "            batch_tokens  = nonpad_mask.sum().item()\n",
    "\n",
    "            batch_loss_sum = batch_loss.item() * batch_tokens\n",
    "\n",
    "            total_val_loss += batch_loss_sum\n",
    "            total_tokens += batch_tokens\n",
    "    \n",
    "    val_loss = total_val_loss / total_tokens\n",
    "    val_ppl  = np.exp(val_loss)\n",
    "    val_losses.append(val_loss)\n",
    "    val_ppls.append(val_ppl)\n",
    "    \n",
    "    print(f\"Epoch {epoch:03d} — train_loss: {train_loss:.4f} | \"\n",
    "          f\"val_loss: {val_loss:.4f} | val_ppl: {val_ppl:.2f}\")\n",
    "    \n",
    "    if epoch % 50 == 0:\n",
    "        torch.save(model.state_dict(),\n",
    "                   f\"./model/rhyme_checkpoint_epoch_{epoch:03d}_valloss_{val_loss:.4f}.pth\")\n",
    "    \n",
    "    # Early stop\n",
    "    if val_loss < best_val_loss:\n",
    "        best_val_loss = val_loss\n",
    "        epochs_without_improvement = 0\n",
    "    else:\n",
    "        epochs_without_improvement += 1\n",
    "        #if epochs_without_improvement >= patience:\n",
    "        #    print(f\"\\nEarly stopping at epoch {epoch} \"\n",
    "        #          f\"(no improvement in val_loss for {patience} epochs).\")\n",
    "        #    torch.save(model.state_dict(),\n",
    "        #           f\"./model/rhyme_checkpoint_epoch_{epoch:03d}_valloss_{val_loss:.4f}.pth\")\n",
    "        #    break"
   ]
  },
  {
   "cell_type": "code",
   "execution_count": 21,
   "metadata": {},
   "outputs": [
    {
     "name": "stdout",
     "output_type": "stream",
     "text": [
      "\n",
      "Conjunto de teste — loss: 4.2952 | perplexity: 73.35\n"
     ]
    }
   ],
   "source": [
    "model.eval()\n",
    "total_test_loss, total_tokens = 0.0, 0\n",
    "with torch.no_grad():\n",
    "    for x_batch, y_batch in test_loader:\n",
    "        x_batch = x_batch.to(device)\n",
    "        y_batch = y_batch.to(device)\n",
    "\n",
    "        output = model(x_batch)\n",
    "        bs, sl, vs = output.size()\n",
    "        output = output.view(-1, vs)\n",
    "        y_flat = y_batch.view(-1)\n",
    "\n",
    "        batch_loss = F.cross_entropy(\n",
    "            output,\n",
    "            y_flat,\n",
    "            ignore_index=sp.pad_id(),\n",
    "            reduction='mean'\n",
    "        )\n",
    "\n",
    "        nonpad_mask  = (y_flat != sp.pad_id())\n",
    "        batch_tokens = nonpad_mask.sum().item()\n",
    "        batch_loss_sum = batch_loss.item() * batch_tokens\n",
    "\n",
    "        total_test_loss += batch_loss_sum\n",
    "        total_tokens    += batch_tokens\n",
    "\n",
    "test_loss = total_test_loss / total_tokens\n",
    "test_ppl  = np.exp(test_loss)\n",
    "print(f\"\\nConjunto de teste — loss: {test_loss:.4f} | perplexity: {test_ppl:.2f}\")"
   ]
  },
  {
   "cell_type": "code",
   "execution_count": 22,
   "metadata": {},
   "outputs": [
    {
     "data": {
      "image/png": "[encoded data removed]",
      "text/plain": [
       "<Figure size 640x480 with 1 Axes>"
      ]
     },
     "metadata": {},
     "output_type": "display_data"
    }
   ],
   "source": [
    "plt.plot(train_losses, label='Training Loss')\n",
    "plt.plot(val_losses, label='Validation Loss')\n",
    "plt.xlabel('Epoch')\n",
    "plt.ylabel('Loss')\n",
    "plt.title('Training Loss Over Epochs')\n",
    "plt.legend()\n",
    "plt.grid()\n",
    "plt.show()"
   ]
  },
  {
   "cell_type": "code",
   "execution_count": 23,
   "metadata": {},
   "outputs": [
    {
     "data": {
      "image/png": "[encoded data removed]",
      "text/plain": [
       "<Figure size 640x480 with 1 Axes>"
      ]
     },
     "metadata": {},
     "output_type": "display_data"
    }
   ],
   "source": [
    "# Graph val_ppl\n",
    "plt.plot(val_ppls, label='Validation Perplexity')\n",
    "plt.xlabel('Epoch')\n",
    "plt.ylabel('Perplexity')\n",
    "plt.title('Validation Perplexity Over Epochs')\n",
    "plt.grid()\n",
    "plt.show()"
   ]
  },
  {
   "cell_type": "code",
   "execution_count": 24,
   "metadata": {},
   "outputs": [
    {
     "name": "stdout",
     "output_type": "stream",
     "text": [
      "Shall I compare theend own own own own own own own own own own own own own own own own own own own own own own own own own own own own own own own own own own own own own own own own own own own own own own own own own own own own own own own own own own own own own own own own own own own own own own own own own own own own own own own own own own own own own own own own own own own own own own own own own own own own own own own own own own own own own own own own own own own own own own own own own own own own own own own own own own own own own own own own own own own own own own own own own own own own own own own own own own own own own own own own own own own own own own own own own own own own own own own own own own own own own own own own own own own own own own own own own own own own own own own own own own own own own own own own own own own own own own own own own own own own own own own own own own own own own own own own own own own own own own own own own own own own own own own own own own\n"
     ]
    }
   ],
   "source": [
    "model.eval()\n",
    "\n",
    "start_text = \"Shall I compare thee\"\n",
    "raw = generate_sonnet(model, sp, start_text, max_length=256, device='cuda')\n",
    "generated_sonnet = clean_generated_text(raw, pad_token='<PAD>')\n",
    "print(generated_sonnet)"
   ]
  },
  {
   "cell_type": "code",
   "execution_count": 25,
   "metadata": {},
   "outputs": [
    {
     "name": "stdout",
     "output_type": "stream",
     "text": [
      "Thy brand wave gripy left fierce;;;; f;;;;; you;; you;;;;;;;;;;;;;;;;;;;;;;;;;;; you;;;;;; you;;;;; you;;;; who; you you; you;; you;;;;;;;;;;;;;;;;;;;;;;;;;;;; you;;;;;;;;;;;;;; you;;; you;; you you you you; you you; you you you you; you you; you you you you; you you you you;; you you you you you you you you you you you you you you you you you you you you you you you you you you you you you you you you you you you you you you you you you you you you you you you you you you you you you you you you you you you you you you you you you you you you you you you you you you you you you you you you you you you you you you you you you you you you you you you you you you you you you you\n"
     ]
    }
   ],
   "source": [
    "model.eval()\n",
    "\n",
    "start_text = \"Thy\"\n",
    "raw = generate_sonnet(model, sp, start_text, max_length=256, device='cuda')\n",
    "generated_sonnet = clean_generated_text(raw, pad_token='<PAD>')\n",
    "print(generated_sonnet)"
   ]
  },
  {
   "cell_type": "code",
   "execution_count": 26,
   "metadata": {},
   "outputs": [
    {
     "name": "stdout",
     "output_type": "stream",
     "text": [
      "Thyers harm resemble who held in in in in in in in in in in in in in in in in before in in in in don in ben in together in in in in in though in immortalteous in in in doni deedour in holding in met in in in in pro in in in in in before inelude draw in captur draw in both did in in in before in pierce in in in in Carrie in in in in in an in in in in in in in inected in in in in though in in both in in in after in they are in slumber reveal in in smart their draw in take in in in in before in in cannot in before in in in in pro left in flare in ensnared in in pro left in capture in mis in there we cannot in in in skies in in both take in in in in in world in in in in inq are in in in before in in in in in in in in in in in genuine in in left in pro in in lifeless in pro in in in in in or in their in in in memories was in in in pro in in her in in in in in in in in in in in or or in her in in in in they in in semblance in in in shin in in mis in their in\n"
     ]
    }
   ],
   "source": [
    "model.eval()\n",
    "\n",
    "start_text = \"Thy\"\n",
    "raw = generate_sonnet_sampling(model, sp, start_text, max_length=256, device='cuda')\n",
    "generated_sonnet = clean_generated_text(raw, pad_token='<PAD>')\n",
    "print(generated_sonnet)"
   ]
  },
  {
   "cell_type": "markdown",
   "metadata": {},
   "source": [
    "### BLEU Score on Test Set"
   ]
  },
  {
   "cell_type": "code",
   "execution_count": 19,
   "metadata": {},
   "outputs": [
    {
     "name": "stderr",
     "output_type": "stream",
     "text": [
      "/tmp/ipykernel_6738/1930464033.py:11: FutureWarning: You are using `torch.load` with `weights_only=False` (the current default value), which uses the default pickle module implicitly. It is possible to construct malicious pickle data which will execute arbitrary code during unpickling (See https://github.com/pytorch/pytorch/blob/main/SECURITY.md#untrusted-models for more details). In a future release, the default value for `weights_only` will be flipped to `True`. This limits the functions that could be executed during unpickling. Arbitrary objects will no longer be allowed to be loaded via this mode unless they are explicitly allowlisted by the user via `torch.serialization.add_safe_globals`. We recommend you start setting `weights_only=True` for any use case where you don't have full control of the loaded file. Please open an issue on GitHub for any issues related to this experimental feature.\n",
      "  model.load_state_dict(torch.load('./model/rhyme_checkpoint_epoch_200_valloss_4.1735.pth'))\n"
     ]
    },
    {
     "data": {
      "text/plain": [
       "<All keys matched successfully>"
      ]
     },
     "execution_count": 19,
     "metadata": {},
     "output_type": "execute_result"
    }
   ],
   "source": [
    "# Load model\n",
    "model = TransformerModel(\n",
    "    vocab_size=4000, \n",
    "    seq_len=277, # This max len comes from the previous notebook\n",
    "    embedding_dim=256,\n",
    "    num_heads=8, \n",
    "    num_layers=6, \n",
    "    dropout=0.1\n",
    ").to(device)\n",
    "\n",
    "model.load_state_dict(torch.load('./model/rhyme_checkpoint_epoch_200_valloss_4.1735.pth'))"
   ]
  },
  {
   "cell_type": "code",
   "execution_count": 20,
   "metadata": {},
   "outputs": [
    {
     "name": "stdout",
     "output_type": "stream",
     "text": [
      "[\"ould my;s are live of visional , <rhyme_A> <LINE> When such,s ofness s of, night the, release; ever<rhyme_B> t Andlock fray are to this impur shoulder wearW <LINE> Ou time or sweet  the branches. human it remain. <rhyme_B>  ⁇  But of' adore grace true of valor,, <rhyme_C> <LINE> Aough  find fall, the sight of wander. <rhyme_D> <LINE> Sweet false grace the most  watch, <rhyme_C> <LINE> In gardens, sight clock they trace filled made light <rhyme_D> <LINE> But in myly denial of in pure care glow <LINE> <rhyme_E> NoI ofd lose seek<rhyme_F>in, where of' world ors delights <rhyme_F> <LINE> A gem, than, the bloom heart be  <rhyme_E> <LINE> To make,ing spoiling. worldic <rhyme_F>able Timeade train <rhyme_F> <LINE> For who as do forever un to I verse to, <rhyme_G> <LINE> I've this beyond name myself initia and monuments  thee treasure,  <rhyme_G><PAD><PAD><PAD><PAD><PAD><PAD><PAD><PAD><PAD><PAD><PAD><PAD><PAD><PAD><PAD><PAD><PAD><PAD><PAD><PAD><PAD><PAD><PAD><PAD><PAD><PAD><PAD><PAD><PAD><PAD><PAD><PAD><PAD><PAD><PAD><PAD><PAD><PAD><PAD><PAD><PAD><PAD><PAD><PAD><PAD><PAD><PAD><PAD><PAD><PAD><PAD><PAD><PAD><PAD><PAD><PAD><PAD><PAD><PAD>\", \"a by me your belong your wisdom, a partake it, <rhyme_A> <LINE> Neglect restrain, forS, your heart; show; <rhyme_B> <LINE> Oh' aore,, equal gra youth by once<rhyme_A> <LINE> Exing, the depth of my hidden's needs, <rhyme_B> <LINE> Seek whyither he you for for war, soest by, <rhyme_C> <LINE> Fea a have bright, heart and chill,, harsh, <rhyme_D> <LINE> For's handed by heal, a cruel a not a lureingcond <rhyme_C> <LINE> Shtils weighthose shaped us is and rot me,. <rhyme_D> <LINE> The truth in your presence, bes,rapture, <rhyme_E> <LINE> Ander, sweet fors that hopell; upon <LINE> <LINE> Whiinging what moment,s,, had all verse; <LINE> <rhyme_F> Be than' yourself find trapped every leave,;. B <LINE> I' lost by, and rightly lost' ing for<rhyme_G> <LINE> T's the gosling,  left'd., light bloom? eternal to <rhyme_G><PAD><PAD><PAD><PAD><PAD><PAD><PAD><PAD><PAD><PAD><PAD><PAD><PAD><PAD><PAD><PAD><PAD><PAD><PAD><PAD><PAD><PAD><PAD><PAD><PAD><PAD><PAD><PAD><PAD><PAD><PAD><PAD><PAD><PAD><PAD><PAD><PAD><PAD><PAD><PAD><PAD><PAD><PAD><PAD><PAD><PAD><PAD><PAD>\", \"mark lies the worlding the pure virtueed <rhyme_A> <LINE> The solemn,  radiantly, your unwavering advance <rhyme_B> <LINE> Itte, it , beauty of written adorn, abandon<rhyme_A> <LINE> Them of past<LINE> of or,s destiny, weep fell. <rhyme_B> defense The birds, the truth the as  may fulfill of hand de of <rhyme_C> <LINE>  timeing. chaos;e skies, the <rhyme_D> <rhyme_D> The<rhyme_D>y the end,s flow<rhyme_C>ness are 's grant and come, <rhyme_C> <rhyme_C> Inir touch of what' the fabr or the B <LINE> The sorrowsed own, <LINE>ram been,, qualities,ity, from <rhyme_F> S into shall you,, despair, in sweet gifts, <rhyme_E> <rhyme_F> In thine me lines, ,spect they est; <rhyme_E> <LINE> Or charm,,<rhyme_F> , a fame all my.ies <LINE> <LINE> In this theft minehoseeyed forr claim, remorseless my<rhyme_G> and so, no<rhyme_G> <LINE> Thend light to this reign, trance, <rhyme_G><PAD><PAD><PAD><PAD><PAD><PAD><PAD><PAD><PAD><PAD><PAD><PAD><PAD><PAD><PAD><PAD><PAD><PAD><PAD><PAD><PAD><PAD><PAD><PAD><PAD><PAD><PAD><PAD><PAD><PAD><PAD><PAD><PAD><PAD><PAD><PAD><PAD><PAD><PAD><PAD><PAD><PAD><PAD><PAD><PAD>\", \"twilight mys bloom, black was <rhyme_E>ever praised, in <rhyme_A> <LINE> Or if it were, like held not beauty's grace not <rhyme_B> <LINE>  black,  fleeting residess fl<rhyme_A>, as too,, language <LINE> And beauty sme. in false bloom allure, <rhyme_B> <LINE> A it ,s art worldss art not <rhyme_C> <LINE> Hering pathness with earth god, <rhyme_D> <LINE> Orness' solace game adornment'  roses forms <rhyme_C> <LINE> Howamed, cloak strength in tune's ruthless. <rhyme_D> <LINE> But lips' the power, withany, give free the acqui, <rhyme_E> <LINE> That re, vast summer like morningers grand mourning place, <rhyme_F> <LINE> At <LINE>hose she, so endowed told great, loving past<rhyme_E> <rhyme_E> For<rhyme_E>olly to's grace, a father of distance this s  ⁇  In sorrowss guise, even weep,  rightly so  a<rhyme_G> <LINE> For every voice. cries. thus should beauty glow. <rhyme_G><PAD><PAD><PAD><PAD><PAD><PAD><PAD><PAD><PAD><PAD><PAD><PAD><PAD><PAD><PAD><PAD><PAD><PAD><PAD><PAD><PAD><PAD><PAD><PAD><PAD><PAD><PAD><PAD><PAD><PAD><PAD><PAD><PAD><PAD><PAD><PAD><PAD><PAD><PAD><PAD><PAD><PAD><PAD><PAD><PAD><PAD><PAD><PAD><PAD><PAD><PAD><PAD><PAD><PAD><PAD><PAD>\", \", be, whens you are,<rhyme_A> <LINE> When hour heaven before,  to chase is <rhyme_B> <rhyme_B> Your,s snare. on  to .? <rhyme_A> <LINE> Eve when to hence dra , every beyond <LINE> <rhyme_B> Your thus you do? sky  find? <rhyme_C> <LINE> Your, you' end bloomest,  ⁇  <LINE> Your spiritous assert withly decays, what<rhyme_D> <LINE> Butnd manyed wrinkles'<LINE> weave, <rhyme_C> <LINE> In torment, ' ' its haveB <LINE> No, in is your story, do. <LINE> <LINE> Oh worth cruel you create way  trans holds. <rhyme_F> <LINE> Your if offender, shallve? beauty? your <LINE> <rhyme_F> Revealed echo their, mutuale genuine, <rhyme_E> <LINE> Moruld stand ook sickness, must who,? fit. <LINE><PAD><PAD><PAD><PAD><PAD><PAD><PAD><PAD><PAD><PAD><PAD><PAD><PAD><PAD><PAD><PAD><PAD><PAD><PAD><PAD><PAD><PAD><PAD><PAD><PAD><PAD><PAD><PAD><PAD><PAD><PAD><PAD><PAD><PAD><PAD><PAD><PAD><PAD><PAD><PAD><PAD><PAD><PAD><PAD><PAD><PAD><PAD><PAD><PAD><PAD><PAD><PAD><PAD><PAD><PAD><PAD><PAD><PAD><PAD><PAD><PAD><PAD><PAD><PAD><PAD><PAD><PAD><PAD><PAD><PAD><PAD><PAD><PAD><PAD><PAD><PAD><PAD><PAD><PAD><PAD><PAD><PAD><PAD><PAD><PAD><PAD><PAD><PAD><PAD><PAD><PAD><PAD><PAD><PAD>\"]\n",
      "['ould fate grant you to outlive my final breath, <rhyme_A> <LINE> When Death\\'s harsh scythe cuts down and claims my form, <rhyme_B> <LINE> And should you chance upon this humble wreath <rhyme_A> <LINE> Of words, left in my stead to keep you warm; <rhyme_B> <LINE> Compare them to the verse of present days, <rhyme_C> <LINE> Though they may falter in the face of new, <rhyme_D> <LINE> Preserve them for the sentiment I gave, <rhyme_C> <LINE> In honor of the love that once was true. <rhyme_D> <LINE> Then ponder on this thought, so tenderly: <rhyme_E> <LINE> \"Had he lived longer, borne the age\\'s fruit, <rhyme_F> <LINE> A greater gift than this his heart might see <rhyme_E> <LINE> To stand among the ranks of poetic sleuth. <rhyme_F> <LINE> Yet, as he left us and poets rise anew, <rhyme_G> <LINE> I\\'ll cherish his for love, theirs for their due.\" <rhyme_G><PAD><PAD><PAD><PAD><PAD><PAD><PAD><PAD><PAD><PAD><PAD><PAD><PAD><PAD><PAD><PAD><PAD><PAD><PAD><PAD><PAD><PAD><PAD><PAD><PAD><PAD><PAD><PAD><PAD><PAD><PAD><PAD><PAD><PAD><PAD><PAD><PAD><PAD><PAD><PAD><PAD><PAD><PAD><PAD><PAD><PAD><PAD><PAD><PAD><PAD><PAD><PAD><PAD><PAD><PAD><PAD><PAD><PAD>', \"revealing that he is yours, I make known, <rhyme_A> <LINE> My fate is sealed by your commanding might, <rhyme_B> <LINE> I forfeit myself, to your throne, <rhyme_A> <LINE> Yearning for the solace of my heart's delight. <rhyme_B> <LINE> But neither will you, nor he, grant us release, <rhyme_C> <LINE> For you are grasping, and he is too kind; <rhyme_D> <LINE> He's learned to write as a pledge, like a lease, <rhyme_C> <LINE> Under the weight that binds him, and keeps him confined. <rhyme_D> <LINE> The law of your beauty you'll enforce, <rhyme_E> <LINE> A usurer, you take all with a concealed claim, <rhyme_F> <LINE> Demanding a friend's payment, for my remorse; <rhyme_E> <LINE> So I lose him, through my own unworthy game. <rhyme_F> <LINE> I have lost him, and now you both possess, <rhyme_G> <LINE> He pays the debt, yet I'm still in this mess. <rhyme_G><PAD><PAD><PAD><PAD><PAD><PAD><PAD><PAD><PAD><PAD><PAD><PAD><PAD><PAD><PAD><PAD><PAD><PAD><PAD><PAD><PAD><PAD><PAD><PAD><PAD><PAD><PAD><PAD><PAD><PAD><PAD><PAD><PAD><PAD><PAD><PAD><PAD><PAD><PAD><PAD><PAD><PAD><PAD><PAD><PAD><PAD><PAD>\", \"mirror reveals the passing of thy charms, <rhyme_A> <LINE> The clock, the swift departure of your days; <rhyme_B> <LINE> In empty pages, thoughts and memories are swarms, <rhyme_A> <LINE> From this collection, wisdom's taste will surely raise. <rhyme_B> <LINE> The lines on your face, the glass will candidly show, <rhyme_C> <LINE> Of whispered secrets from gaping graves will tell; <rhyme_D> <LINE> By the clock's shifting shadows, you'll come to know, <rhyme_C> <LINE> The fleeting march of time to the final knell. <rhyme_D> <LINE> What escapes your mind, jot down on these empty sheets, <rhyme_E> <LINE>  ⁇ ive life anew to ideas conceived in your head; <rhyme_F> <LINE> In revisiting these lines, both profit and sweets, <rhyme_E> <LINE> Your enriched journal, a treasure to be read. <rhyme_F> <LINE> In this oft-perused tome, find knowledge and delight, <rhyme_G> <LINE> A living testament to your intellectual flight. <rhyme_G><PAD><PAD><PAD><PAD><PAD><PAD><PAD><PAD><PAD><PAD><PAD><PAD><PAD><PAD><PAD><PAD><PAD><PAD><PAD><PAD><PAD><PAD><PAD><PAD><PAD><PAD><PAD><PAD><PAD><PAD><PAD><PAD><PAD><PAD><PAD><PAD><PAD><PAD><PAD><PAD><PAD><PAD><PAD><PAD>\", \"evening's hue, black was never prized, <rhyme_A> <LINE> Or if it were, it held not beauty's crown; <rhyme_B> <LINE> Now black, as beauty's heir, is much admired, <rhyme_A> <LINE> And beauty tarnished by a false renown. <rhyme_B> <LINE> As every soul adopts the artist's touch, <rhyme_C> <LINE> Adorning ugliness with false adorn, <rhyme_D> <LINE> Sweet beauty finds no shrine, no gentle clutch, <rhyme_C> <LINE> Defamed, or dwells in twilight's scorn. <rhyme_D> <LINE> My lady of the darkened sphere, she bears her pain, <rhyme_E> <LINE> Her gaze so somber, like mourners in a dream, <rhyme_F> <LINE> At those who, not begotten fair, obtain <rhyme_E> <LINE> False beauty's grace by a deceitful scheme. <rhyme_F> <LINE> In sorrow's guise, they weep, and rightly so, <rhyme_G> <LINE> For every tongue now murmurs: thus should beauty glow. <rhyme_G><PAD><PAD><PAD><PAD><PAD><PAD><PAD><PAD><PAD><PAD><PAD><PAD><PAD><PAD><PAD><PAD><PAD><PAD><PAD><PAD><PAD><PAD><PAD><PAD><PAD><PAD><PAD><PAD><PAD><PAD><PAD><PAD><PAD><PAD><PAD><PAD><PAD><PAD><PAD><PAD><PAD><PAD><PAD><PAD><PAD><PAD><PAD><PAD><PAD><PAD><PAD><PAD><PAD><PAD><PAD>\", \"gal allure, why do you hoard <rhyme_A> <LINE> Your inherited grace, kept to yourself? <rhyme_B> <LINE> Nature's endowment is not to be stored, <rhyme_A> <LINE> But lent freely, multiplying wealth. <rhyme_B> <LINE> So, why withhold the riches you possess, <rhyme_C> <LINE> Denying others their own fair share? <rhyme_D> <LINE> Your miserly ways only bring distress, <rhyme_C> <LINE> And leave no legacy but despair. <rhyme_D> <LINE> In solitude, you squander life away, <rhyme_E> <LINE> Cheating yourself, your true worth unseen. <rhyme_F> <LINE> What account can you give, on judgment day, <rhyme_E> <LINE> For the beauty you've kept locked within? <rhyme_F> <LINE> That unused treasure, buried with you, <rhyme_G> <LINE> Could have brought life, had you set it free. <rhyme_G><PAD><PAD><PAD><PAD><PAD><PAD><PAD><PAD><PAD><PAD><PAD><PAD><PAD><PAD><PAD><PAD><PAD><PAD><PAD><PAD><PAD><PAD><PAD><PAD><PAD><PAD><PAD><PAD><PAD><PAD><PAD><PAD><PAD><PAD><PAD><PAD><PAD><PAD><PAD><PAD><PAD><PAD><PAD><PAD><PAD><PAD><PAD><PAD><PAD><PAD><PAD><PAD><PAD><PAD><PAD><PAD><PAD><PAD><PAD><PAD><PAD><PAD><PAD><PAD><PAD><PAD><PAD><PAD><PAD><PAD><PAD><PAD><PAD><PAD><PAD><PAD><PAD><PAD><PAD><PAD><PAD><PAD><PAD><PAD><PAD><PAD><PAD><PAD><PAD><PAD><PAD><PAD><PAD>\"]\n",
      "BLEU score (corpus) = 65.83\n"
     ]
    }
   ],
   "source": [
    "model.eval()\n",
    "\n",
    "test_references = []  \n",
    "test_hypotheses = []   \n",
    "\n",
    "with torch.no_grad():\n",
    "    for x_batch, y_batch in test_loader:\n",
    "        x_batch = x_batch.to(device)\n",
    "        y_batch = y_batch.to(device)\n",
    "\n",
    "        batch_size, seq_len = y_batch.size()\n",
    "        for i in range(batch_size):\n",
    "            # Convertemos para lista de ints\n",
    "            ref_ids = y_batch[i].tolist()\n",
    "\n",
    "            # Remover pads e truncar em <eos>\n",
    "            clean_ref_ids = []\n",
    "            for tid in ref_ids:\n",
    "                if tid == sp.pad_id():\n",
    "                    break\n",
    "                if tid == sp.eos_id():\n",
    "                    break\n",
    "                clean_ref_ids.append(tid)\n",
    "\n",
    "            # Decodificar em string\n",
    "            ref_text = sp.decode_ids(clean_ref_ids).strip()\n",
    "            test_references.append(ref_text)\n",
    "\n",
    "        output_logits = model(x_batch)   \n",
    "        \n",
    "        output_ids = output_logits.argmax(dim=-1) \n",
    "\n",
    "        for i in range(batch_size):\n",
    "            hyp_ids = output_ids[i].tolist()\n",
    "\n",
    "            clean_hyp_ids = []\n",
    "            for tid in hyp_ids:\n",
    "                if tid == sp.pad_id():\n",
    "                    break\n",
    "                clean_hyp_ids.append(tid)\n",
    "\n",
    "            hyp_text = sp.decode_ids(clean_hyp_ids).strip()\n",
    "            test_hypotheses.append(hyp_text)\n",
    "\n",
    "\n",
    "list_of_references = [test_references]\n",
    "\n",
    "bleu = corpus_bleu(test_hypotheses, list_of_references)\n",
    "\n",
    "print(test_hypotheses[:5])\n",
    "print(test_references[:5])\n",
    "print(f\"BLEU score (corpus) = {bleu.score:.2f}\")"
   ]
  },
  {
   "cell_type": "markdown",
   "metadata": {},
   "source": [
    "### Awful overfitting alert!\n",
    "\n",
    "Let's continue with our first idea for the lightweight model"
   ]
  }
 ],
 "metadata": {
  "kernelspec": {
   "display_name": "nlp-shakespeare",
   "language": "python",
   "name": "python3"
  },
  "language_info": {
   "codemirror_mode": {
    "name": "ipython",
    "version": 3
   },
   "file_extension": ".py",
   "mimetype": "text/x-python",
   "name": "python",
   "nbconvert_exporter": "python",
   "pygments_lexer": "ipython3",
   "version": "3.10.17"
  }
 },
 "nbformat": 4,
 "nbformat_minor": 2
}
