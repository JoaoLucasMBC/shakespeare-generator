{
 "cells": [
  {
   "cell_type": "code",
   "execution_count": 1,
   "metadata": {},
   "outputs": [],
   "source": [
    "import pandas as pd\n",
    "import sentencepiece as spm\n",
    "import torch\n",
    "import torch.nn as nn\n",
    "from torch.nn.utils.rnn import pad_sequence\n",
    "import torch.nn.functional as F\n",
    "from tqdm import tqdm\n",
    "from torch.optim import Adam\n",
    "from torch.utils.data import DataLoader, TensorDataset"
   ]
  },
  {
   "cell_type": "code",
   "execution_count": 2,
   "metadata": {},
   "outputs": [
    {
     "name": "stdout",
     "output_type": "stream",
     "text": [
      "Using device: cuda\n"
     ]
    }
   ],
   "source": [
    "# Define the device\n",
    "device = torch.device(\"cuda\" if torch.cuda.is_available() else \"cpu\")\n",
    "\n",
    "print(f\"Using device: {device}\")"
   ]
  },
  {
   "cell_type": "code",
   "execution_count": 3,
   "metadata": {},
   "outputs": [
    {
     "data": {
      "text/html": [
       "<div>\n",
       "<style scoped>\n",
       "    .dataframe tbody tr th:only-of-type {\n",
       "        vertical-align: middle;\n",
       "    }\n",
       "\n",
       "    .dataframe tbody tr th {\n",
       "        vertical-align: top;\n",
       "    }\n",
       "\n",
       "    .dataframe thead th {\n",
       "        text-align: right;\n",
       "    }\n",
       "</style>\n",
       "<table border=\"1\" class=\"dataframe\">\n",
       "  <thead>\n",
       "    <tr style=\"text-align: right;\">\n",
       "      <th></th>\n",
       "      <th>Sonnet Number</th>\n",
       "      <th>Variation Number</th>\n",
       "      <th>Variation Text</th>\n",
       "    </tr>\n",
       "  </thead>\n",
       "  <tbody>\n",
       "    <tr>\n",
       "      <th>0</th>\n",
       "      <td>1</td>\n",
       "      <td>1</td>\n",
       "      <td>Desire for growth in loveliest of beings, &lt;LIN...</td>\n",
       "    </tr>\n",
       "    <tr>\n",
       "      <th>1</th>\n",
       "      <td>1</td>\n",
       "      <td>2</td>\n",
       "      <td>In the fairest of beings, we crave increase, &lt;...</td>\n",
       "    </tr>\n",
       "    <tr>\n",
       "      <th>2</th>\n",
       "      <td>1</td>\n",
       "      <td>3</td>\n",
       "      <td>For fairest beings, we yearn for more to grace...</td>\n",
       "    </tr>\n",
       "    <tr>\n",
       "      <th>3</th>\n",
       "      <td>2</td>\n",
       "      <td>1</td>\n",
       "      <td>As forty winters carve their icy lines on your...</td>\n",
       "    </tr>\n",
       "    <tr>\n",
       "      <th>4</th>\n",
       "      <td>2</td>\n",
       "      <td>2</td>\n",
       "      <td>When winter's hand has etched its stories on y...</td>\n",
       "    </tr>\n",
       "  </tbody>\n",
       "</table>\n",
       "</div>"
      ],
      "text/plain": [
       "   Sonnet Number  Variation Number  \\\n",
       "0              1                 1   \n",
       "1              1                 2   \n",
       "2              1                 3   \n",
       "3              2                 1   \n",
       "4              2                 2   \n",
       "\n",
       "                                      Variation Text  \n",
       "0  Desire for growth in loveliest of beings, <LIN...  \n",
       "1  In the fairest of beings, we crave increase, <...  \n",
       "2  For fairest beings, we yearn for more to grace...  \n",
       "3  As forty winters carve their icy lines on your...  \n",
       "4  When winter's hand has etched its stories on y...  "
      ]
     },
     "execution_count": 3,
     "metadata": {},
     "output_type": "execute_result"
    }
   ],
   "source": [
    "df = pd.read_csv('./data/diffused_sonnets_2.csv')\n",
    "\n",
    "df['Variation Text'] = df['Variation Text'].str.replace('\\n', ' <LINE> ')\n",
    "\n",
    "df.head()"
   ]
  },
  {
   "cell_type": "code",
   "execution_count": 4,
   "metadata": {},
   "outputs": [
    {
     "name": "stderr",
     "output_type": "stream",
     "text": [
      "sentencepiece_trainer.cc(78) LOG(INFO) Starts training with : \n",
      "trainer_spec {\n",
      "  input: ./data/sonnets_train.txt\n",
      "  input_format: \n",
      "  model_prefix: ./model/my_tokenizer\n",
      "  model_type: UNIGRAM\n",
      "  vocab_size: 4000\n",
      "  self_test_sample_size: 0\n",
      "  character_coverage: 0.9995\n",
      "  input_sentence_size: 0\n",
      "  shuffle_input_sentence: 1\n",
      "  seed_sentencepiece_size: 1000000\n",
      "  shrinking_factor: 0.75\n",
      "  max_sentence_length: 4192\n",
      "  num_threads: 16\n",
      "  num_sub_iterations: 2\n",
      "  max_sentencepiece_length: 16\n",
      "  split_by_unicode_script: 1\n",
      "  split_by_number: 1\n",
      "  split_by_whitespace: 1\n",
      "  split_digits: 0\n",
      "  pretokenization_delimiter: \n",
      "  treat_whitespace_as_suffix: 0\n",
      "  allow_whitespace_only_pieces: 0\n",
      "  user_defined_symbols: <LINE>\n",
      "  user_defined_symbols: <PAD>\n",
      "  required_chars: \n",
      "  byte_fallback: 0\n",
      "  vocabulary_output_piece_score: 1\n",
      "  train_extremely_large_corpus: 0\n",
      "  seed_sentencepieces_file: \n",
      "  hard_vocab_limit: 1\n",
      "  use_all_vocab: 0\n",
      "  unk_id: 0\n",
      "  bos_id: 1\n",
      "  eos_id: 2\n",
      "  pad_id: -1\n",
      "  unk_piece: <unk>\n",
      "  bos_piece: <s>\n",
      "  eos_piece: </s>\n",
      "  pad_piece: <pad>\n",
      "  unk_surface:  ⁇ \n",
      "  enable_differential_privacy: 0\n",
      "  differential_privacy_noise_level: 0\n",
      "  differential_privacy_clipping_threshold: 0\n",
      "}\n",
      "normalizer_spec {\n",
      "  name: nmt_nfkc\n",
      "  add_dummy_prefix: 1\n",
      "  remove_extra_whitespaces: 1\n",
      "  escape_whitespaces: 1\n",
      "  normalization_rule_tsv: \n",
      "}\n",
      "denormalizer_spec {}\n",
      "trainer_interface.cc(353) LOG(INFO) SentenceIterator is not specified. Using MultiFileSentenceIterator.\n",
      "trainer_interface.cc(185) LOG(INFO) Loading corpus: ./data/sonnets_train.txt\n",
      "trainer_interface.cc(409) LOG(INFO) Loaded all 460 sentences\n",
      "trainer_interface.cc(425) LOG(INFO) Adding meta_piece: <unk>\n",
      "trainer_interface.cc(425) LOG(INFO) Adding meta_piece: <s>\n",
      "trainer_interface.cc(425) LOG(INFO) Adding meta_piece: </s>\n",
      "trainer_interface.cc(425) LOG(INFO) Adding meta_piece: <LINE>\n",
      "trainer_interface.cc(425) LOG(INFO) Adding meta_piece: <PAD>\n",
      "trainer_interface.cc(430) LOG(INFO) Normalizing sentences...\n",
      "trainer_interface.cc(539) LOG(INFO) all chars count=296757\n",
      "trainer_interface.cc(550) LOG(INFO) Done: 99.9579% characters are covered.\n",
      "trainer_interface.cc(560) LOG(INFO) Alphabet size=54\n",
      "trainer_interface.cc(561) LOG(INFO) Final character coverage=0.999579\n",
      "trainer_interface.cc(592) LOG(INFO) Done! preprocessed 460 sentences.\n",
      "unigram_model_trainer.cc(265) LOG(INFO) Making suffix array...\n",
      "unigram_model_trainer.cc(269) LOG(INFO) Extracting frequent sub strings... node_num=162388\n",
      "unigram_model_trainer.cc(312) LOG(INFO) Initialized 15508 seed sentencepieces\n",
      "trainer_interface.cc(598) LOG(INFO) Tokenizing input sentences with whitespace: 460\n",
      "trainer_interface.cc(609) LOG(INFO) Done! 9499\n",
      "unigram_model_trainer.cc(602) LOG(INFO) Using 9499 sentences for EM training\n",
      "unigram_model_trainer.cc(618) LOG(INFO) EM sub_iter=0 size=5955 obj=13.2879 num_tokens=18997 num_tokens/piece=3.19009\n",
      "unigram_model_trainer.cc(618) LOG(INFO) EM sub_iter=1 size=5080 obj=11.3511 num_tokens=19212 num_tokens/piece=3.78189\n",
      "unigram_model_trainer.cc(618) LOG(INFO) EM sub_iter=0 size=4369 obj=11.3912 num_tokens=19919 num_tokens/piece=4.55917\n",
      "unigram_model_trainer.cc(618) LOG(INFO) EM sub_iter=1 size=4358 obj=11.349 num_tokens=19923 num_tokens/piece=4.57159\n",
      "trainer_interface.cc(687) LOG(INFO) Saving model: ./model/my_tokenizer.model\n",
      "trainer_interface.cc(699) LOG(INFO) Saving vocabs: ./model/my_tokenizer.vocab\n"
     ]
    }
   ],
   "source": [
    "# 1. Prepare the training data for SentencePiece: join all sonnets with newlines\n",
    "combined_text = '\\n'.join(df['Variation Text'].tolist())\n",
    "\n",
    "# 2. Write combined text to a temporary file (SentencePiece expects a file input for training)\n",
    "with open('./data/sonnets_train.txt', 'w', encoding='utf-8') as f:\n",
    "    f.write(combined_text)\n",
    "\n",
    "# 3. Train SentencePiece tokenizer from the file\n",
    "spm.SentencePieceTrainer.train(\n",
    "    input='./data/sonnets_train.txt',\n",
    "    model_prefix='./model/my_tokenizer',\n",
    "    vocab_size=4000, \n",
    "    user_defined_symbols=['<LINE>', '<PAD>']\n",
    ")"
   ]
  },
  {
   "cell_type": "code",
   "execution_count": 4,
   "metadata": {},
   "outputs": [
    {
     "name": "stdout",
     "output_type": "stream",
     "text": [
      "[1989, 30, 3528, 12, 2144, 104, 15, 1489, 6, 5, 3, 45, 239, 49, 9, 7, 236, 50, 1091, 20, 201, 6, 5, 3, 101, 21, 3718, 1284, 381, 6, 244, 76, 76, 2732, 6, 5, 3, 25, 639, 15, 2003, 16, 3482, 8, 5, 3, 61, 18, 6, 699, 16, 13, 60, 130, 145, 6, 5, 3, 64, 3015, 13, 92, 9, 7, 257, 35, 143, 79, 1434, 1892, 6, 5, 3, 2540, 20, 863, 12, 21, 610, 15, 953, 9, 7, 1998, 6, 5, 3, 105, 1992, 2635, 13, 60, 143, 6, 262, 182, 246, 8, 5, 3, 146, 6, 80, 10, 227, 9, 7, 216, 517, 328, 2139, 290, 6, 5, 3, 19, 31, 3033, 20, 83, 15, 451, 12, 62, 43, 504, 6, 5, 3, 24, 13, 60, 1084, 6, 214, 13, 152, 6, 5, 3, 19, 1705, 54, 977, 6, 158, 707, 974, 7, 3432, 8, 5, 3, 474, 67, 1095, 51, 10, 119, 6, 71, 46, 1894, 706, 757, 608, 6, 5, 3, 229, 230, 612, 87, 9, 7, 5, 2963, 6, 32, 417, 17, 99, 8, 5, 3, 5, 3]\n"
     ]
    }
   ],
   "source": [
    "# 4. Load the trained tokenizer\n",
    "sp = spm.SentencePieceProcessor()\n",
    "sp.load('./model/my_tokenizer.model')\n",
    "\n",
    "# 5. Tokenize each sonnet in the DataFrame\n",
    "def tokenize_sonnet(text):\n",
    "    return sp.encode_as_ids(text)\n",
    "\n",
    "df['tokenized_sonnet'] = df['Variation Text'].apply(tokenize_sonnet)\n",
    "\n",
    "# Example: print tokenized pieces for the first sonnet\n",
    "print(df.loc[0, 'tokenized_sonnet'])"
   ]
  },
  {
   "cell_type": "code",
   "execution_count": 5,
   "metadata": {},
   "outputs": [],
   "source": [
    "class ResidualBlock(nn.Module):\n",
    "    def __init__(self, hidden_size):\n",
    "        super().__init__()\n",
    "        self.fc1 = nn.Linear(hidden_size, hidden_size)\n",
    "        self.fc2 = nn.Linear(hidden_size, hidden_size)\n",
    "        self.nonlinearity = nn.ReLU()\n",
    "\n",
    "        # Initialize weights to identity and biases to zero\n",
    "        nn.init.eye_(self.fc1.weight)\n",
    "        nn.init.zeros_(self.fc1.bias)\n",
    "        nn.init.eye_(self.fc2.weight)\n",
    "        nn.init.zeros_(self.fc2.bias)\n",
    "\n",
    "    def forward(self, x):\n",
    "        residual = x\n",
    "        x = self.nonlinearity(self.fc1(x))\n",
    "        x = self.fc2(x)\n",
    "        x += residual  # Add the residual connection\n",
    "        return x\n",
    "\n",
    "class ClassifierWithMHAPositionEncoding(nn.Module):\n",
    "    def __init__(self, vocab_size, seq_len, embedding_dim):\n",
    "        super().__init__()\n",
    "        self.embedding = nn.Embedding(\n",
    "            num_embeddings=vocab_size,\n",
    "            embedding_dim=embedding_dim\n",
    "        )\n",
    "        self.position_embedding = nn.Embedding(\n",
    "            num_embeddings=seq_len,  # Assuming max sequence length of 100\n",
    "            embedding_dim=embedding_dim\n",
    "        )\n",
    "        self.mhe = nn.MultiheadAttention(\n",
    "            embed_dim=embedding_dim,\n",
    "            num_heads=1,\n",
    "            batch_first=True\n",
    "        )\n",
    "        self.r1 = ResidualBlock(embedding_dim)\n",
    "        self.clf = nn.Linear(embedding_dim, vocab_size)  # Changed to output vocab size\n",
    "        \n",
    "    def forward(self, x):\n",
    "        # Positional encoding for the sequence\n",
    "        pos_enc = self.position_embedding(torch.arange(x.size(1), device=x.device))  # make sure to use the same device\n",
    "        pos_enc = pos_enc.unsqueeze(0).repeat(x.size(0), 1, 1)  # shape (batch_size, seq_len, embedding_dim)\n",
    "        \n",
    "        # Embedding of the input tokens\n",
    "        x_embeddings = self.embedding(x)\n",
    "        x = x_embeddings + pos_enc  # Add positional encoding to the embeddings\n",
    "        \n",
    "        # Multi-head attention\n",
    "        x_ = self.mhe(x, x, x)[0]  # (batch_size, seq_len, embedding_dim)\n",
    "        \n",
    "        # Residual connection\n",
    "        x = x_ + x\n",
    "        \n",
    "        # Residual block for transformation\n",
    "        x = self.r1(x)\n",
    "        \n",
    "        # Global average pooling over the sequence (optional, depending on your task)\n",
    "        # x = torch.mean(x, dim=1)  # Uncomment if using classification\n",
    "        \n",
    "        # Output layer that predicts next token in sequence (vocab_size logits)\n",
    "        output = self.clf(x)  # shape (batch_size, seq_len, vocab_size)\n",
    "        \n",
    "        return output\n"
   ]
  },
  {
   "cell_type": "code",
   "execution_count": 6,
   "metadata": {},
   "outputs": [
    {
     "name": "stdout",
     "output_type": "stream",
     "text": [
      "torch.Size([460, 256])\n"
     ]
    }
   ],
   "source": [
    "def pad_tokenized_sonnets(tokenized_sonnets, pad_id=-1, max_len=256):\n",
    "\n",
    "    # Truncate each token list to max_len, then convert to tensor\n",
    "    token_tensors = [torch.tensor(tokens[:max_len]) for tokens in tokenized_sonnets]\n",
    "    \n",
    "    # Pad sequences to the max length in the batch (≤ max_len)\n",
    "    padded_tensor = pad_sequence(token_tensors, batch_first=True, padding_value=pad_id)\n",
    "    \n",
    "    # If padding length is less than max_len, pad extra manually\n",
    "    if padded_tensor.size(1) < max_len:\n",
    "        pad_size = max_len - padded_tensor.size(1)\n",
    "        pad_tensor = torch.zeros((padded_tensor.size(0), pad_size), dtype=padded_tensor.dtype)\n",
    "        padded_tensor = torch.cat([padded_tensor, pad_tensor], dim=1)\n",
    "    \n",
    "    return padded_tensor\n",
    "\n",
    "# Pad the tokenized sonnets\n",
    "padded_sonnets = pad_tokenized_sonnets(df['tokenized_sonnet'].tolist(), pad_id=sp.piece_to_id('<PAD>'))\n",
    "\n",
    "# Example: print the shape of the padded tensor\n",
    "print(padded_sonnets.shape)  # Should be (batch_size, max_seq_len)"
   ]
  },
  {
   "cell_type": "code",
   "execution_count": 7,
   "metadata": {},
   "outputs": [],
   "source": [
    "# Prepare input X and target y:\n",
    "# X: tokenized sonnets padded to (batch_size, 256)\n",
    "X = padded_sonnets  # torch.LongTensor\n",
    "\n",
    "# y: X shifted left by 1 (next token prediction), pad last token with 0 or ignore_index\n",
    "y = torch.zeros_like(X)\n",
    "y[:, :-1] = X[:, 1:]\n",
    "y[:, -1] = sp.pad_id()  # or any padding token id to ignore last token prediction"
   ]
  },
  {
   "cell_type": "code",
   "execution_count": 8,
   "metadata": {},
   "outputs": [
    {
     "data": {
      "text/plain": [
       "(tensor([[1989,   30, 3528,  ...,    0,    0,    0],\n",
       "         [  24,   10,  210,  ...,    0,    0,    0],\n",
       "         [  42,  210,  104,  ...,    0,    0,    0],\n",
       "         ...,\n",
       "         [  24,  335,  753,  ...,    0,    0,    0],\n",
       "         [  24,  186,    5,  ...,    0,    0,    0],\n",
       "         [  24, 2270,  240,  ...,    0,    0,    0]]),\n",
       " tensor([[  30, 3528,   12,  ...,    0,    0,   -1],\n",
       "         [  10,  210,  104,  ...,    0,    0,   -1],\n",
       "         [ 210,  104, 1489,  ...,    0,    0,   -1],\n",
       "         ...,\n",
       "         [ 335,  753,    6,  ...,    0,    0,   -1],\n",
       "         [ 186,    5,  491,  ...,    0,    0,   -1],\n",
       "         [2270,  240,    6,  ...,    0,    0,   -1]]))"
      ]
     },
     "execution_count": 8,
     "metadata": {},
     "output_type": "execute_result"
    }
   ],
   "source": [
    "X, y"
   ]
  },
  {
   "cell_type": "code",
   "execution_count": 9,
   "metadata": {},
   "outputs": [],
   "source": [
    "# Create your dataset from the padded tokens and labels\n",
    "dataset = TensorDataset(X, y)\n",
    "\n",
    "# Create a DataLoader with a batch size (adjust batch size to fit your GPU)\n",
    "batch_size = 16  # Adjust based on GPU memory\n",
    "train_loader = DataLoader(dataset, batch_size=batch_size, shuffle=True)"
   ]
  },
  {
   "cell_type": "code",
   "execution_count": 10,
   "metadata": {},
   "outputs": [],
   "source": [
    "def train_one_epoch(model, optimizer, data_loader):\n",
    "    model.train()\n",
    "    optimizer.zero_grad()\n",
    "    \n",
    "    # Loop over batches in data_loader\n",
    "    total_loss = 0.0\n",
    "    for x_batch, y_batch in data_loader:\n",
    "        # Move the batch to the correct device (GPU/CPU)\n",
    "        x_batch, y_batch = x_batch.to(device), y_batch.to(device)\n",
    "\n",
    "        # Forward pass\n",
    "        output = model(x_batch)  # output shape: (batch_size, seq_len, vocab_size)\n",
    "\n",
    "        # Flatten output and target tensors\n",
    "        output = output.view(-1, output.size(-1))  # Flatten to (batch_size * seq_len, vocab_size)\n",
    "        y_batch = y_batch.view(-1)  # Flatten to (batch_size * seq_len)\n",
    "\n",
    "        # Calculate loss\n",
    "        loss = F.cross_entropy(output, y_batch, ignore_index=sp.pad_id())  # Use padding token if needed\n",
    "        \n",
    "        # Backpropagation\n",
    "        loss.backward()\n",
    "\n",
    "        # Optimizer step\n",
    "        optimizer.step()\n",
    "        \n",
    "        # Clear GPU memory (optional, but useful for large batches)\n",
    "        torch.cuda.empty_cache()\n",
    "\n",
    "        # Add to total loss for the epoch\n",
    "        total_loss += loss.item()\n",
    "\n",
    "    return total_loss / len(data_loader)"
   ]
  },
  {
   "cell_type": "code",
   "execution_count": 15,
   "metadata": {},
   "outputs": [],
   "source": [
    "model = ClassifierWithMHAPositionEncoding(vocab_size=4000, seq_len=256, embedding_dim=128).to(device)\n",
    "optimizer = Adam(model.parameters(), lr=1e-4)"
   ]
  },
  {
   "cell_type": "code",
   "execution_count": 16,
   "metadata": {},
   "outputs": [
    {
     "name": "stderr",
     "output_type": "stream",
     "text": [
      " 10%|█         | 100/1000 [00:30<04:37,  3.25it/s]"
     ]
    },
    {
     "name": "stdout",
     "output_type": "stream",
     "text": [
      "Early stopping at epoch 100 due to no improvement.\n"
     ]
    },
    {
     "name": "stderr",
     "output_type": "stream",
     "text": [
      "\n"
     ]
    }
   ],
   "source": [
    "# Initialize early stopping parameters\n",
    "patience = 5  # Number of epochs with no improvement before stopping\n",
    "best_loss = float('inf')\n",
    "epochs_without_improvement = 0\n",
    "losses = []\n",
    "\n",
    "for epoch in tqdm(range(1000)):\n",
    "    loss = train_one_epoch(model, optimizer, train_loader)\n",
    "\n",
    "    losses.append(loss)\n",
    "    \n",
    "    # Track loss for early stopping\n",
    "    if loss < best_loss:\n",
    "        best_loss = loss\n",
    "        epochs_without_improvement = 0\n",
    "    else:\n",
    "        epochs_without_improvement += 1\n",
    "    \n",
    "    # If no improvement after 'patience' epochs, stop training\n",
    "    if epochs_without_improvement >= patience:\n",
    "        print(f\"Early stopping at epoch {epoch} due to no improvement.\")\n",
    "        break\n",
    "    \n",
    "    # Optionally, you can save a checkpoint after each epoch or after improvements\n",
    "    # You could save a checkpoint here to resume later if something goes wrong\n",
    "    if epoch % 10 == 0:  # Save a checkpoint every 10 epochs, for example\n",
    "        torch.save(model.state_dict(), f\"./model/model_checkpoint_epoch_{epoch}.pth\")\n"
   ]
  },
  {
   "cell_type": "code",
   "execution_count": 17,
   "metadata": {},
   "outputs": [
    {
     "data": {
      "image/png": "[encoded data removed]",
      "text/plain": [
       "<Figure size 640x480 with 1 Axes>"
      ]
     },
     "metadata": {},
     "output_type": "display_data"
    }
   ],
   "source": [
    "# Graph the losses per epoch\n",
    "import matplotlib.pyplot as plt\n",
    "\n",
    "plt.plot(losses)\n",
    "plt.xlabel('Epoch')\n",
    "plt.ylabel('Loss')\n",
    "plt.title('Training Loss Over Epochs')\n",
    "plt.grid()\n",
    "plt.show()"
   ]
  },
  {
   "cell_type": "code",
   "execution_count": 19,
   "metadata": {},
   "outputs": [],
   "source": [
    "def generate_sonnet(model, tokenizer, start_sequence, max_length=256, device='cuda'):\n",
    "    model.eval()\n",
    "    generated = tokenizer.encode(start_sequence)  # encode starting text\n",
    "    generated = torch.tensor(generated, device=device).unsqueeze(0)  # shape (1, seq_len)\n",
    "\n",
    "    for _ in range(max_length - generated.size(1)):\n",
    "        outputs = model(generated)  # shape: (1, seq_len, vocab_size)\n",
    "        next_token_logits = outputs[0, -1, :]  # last token logits\n",
    "        \n",
    "        # Greedy decoding: pick token with highest probability\n",
    "        next_token_id = torch.argmax(next_token_logits).unsqueeze(0).unsqueeze(0)\n",
    "        \n",
    "        # Append to generated tokens\n",
    "        generated = torch.cat([generated, next_token_id], dim=1)\n",
    "        \n",
    "        # Optional: stop if EOS token generated (if you have one)\n",
    "        # if next_token_id.item() == tokenizer.eos_token_id:\n",
    "        #     break\n",
    "    \n",
    "    # Decode tokens back to text\n",
    "    generated_text = tokenizer.decode(generated[0].tolist())\n",
    "    return generated_text\n"
   ]
  },
  {
   "cell_type": "code",
   "execution_count": 20,
   "metadata": {},
   "outputs": [
    {
     "name": "stdout",
     "output_type": "stream",
     "text": [
      "Shall I compare thee to a summer's day's grip thought gone by yours, actions own's chains own di, , s, s , s, s, ent's sweetest. s, , ent, in itss, fs s, burnings, s, ents of love's, , s, s, ents, in the heart, sy, in yours, and my heart's, in the heart, in yours embrace, in my heart, to be trues allure, in yoursonate, s s, to be, s,, s, in yours, in your beauty, in my eyes,, in the flame, in yours, in my heart, to be true, , to yours, 's.d,, , 's.s. , being, y,, in this , , the depthss, and heart, in my heart, d, in my heart,  , 's shadow,, s rebirth me ⁇  ⁇  ⁇  ⁇  ⁇  ⁇  ⁇ \n"
     ]
    }
   ],
   "source": [
    "model.eval()\n",
    "\n",
    "start_text = \"Shall I compare thee to a summer's day\"  # or any prompt you want\n",
    "generated_sonnet = generate_sonnet(model, sp, start_text, max_length=256, device='cuda')\n",
    "print(generated_sonnet)"
   ]
  },
  {
   "cell_type": "code",
   "execution_count": 36,
   "metadata": {},
   "outputs": [],
   "source": [
    "def top_p_filtering(logits, top_p=0.9, filter_value=-float('Inf')):\n",
    "    sorted_logits, sorted_indices = torch.sort(logits, descending=True)\n",
    "    cumulative_probs = torch.cumsum(F.softmax(sorted_logits, dim=-1), dim=-1)\n",
    "\n",
    "    # Remove tokens with cumulative probability above threshold\n",
    "    sorted_indices_to_remove = cumulative_probs > top_p\n",
    "    # Shift the indices to keep at least one token\n",
    "    sorted_indices_to_remove[..., 1:] = sorted_indices_to_remove[..., :-1].clone()\n",
    "    sorted_indices_to_remove[..., 0] = 0\n",
    "\n",
    "    indices_to_remove = sorted_indices[sorted_indices_to_remove]\n",
    "    logits[indices_to_remove] = filter_value\n",
    "    return logits\n",
    "\n",
    "def generate_sonnet_sampling(model, sp, start_sequence, max_length=256, device='cuda', top_k=50):\n",
    "    model.eval()\n",
    "    generated = sp.encode_as_ids(start_sequence)\n",
    "    generated = torch.tensor(generated, device=device).unsqueeze(0)\n",
    "\n",
    "    for _ in range(max_length - generated.size(1)):\n",
    "        outputs = model(generated)\n",
    "        next_token_logits = outputs[0, -1, :]\n",
    "\n",
    "        # Use this in your generation loop before sampling\n",
    "        logits = top_p_filtering(next_token_logits, top_p=0.9)\n",
    "        probs = F.softmax(logits, dim=-1)\n",
    "        next_token_id = torch.multinomial(probs, num_samples=1).unsqueeze(0)\n",
    "\n",
    "        generated = torch.cat([generated, next_token_id], dim=1)\n",
    "\n",
    "        # Optional: break on EOS token if you have one\n",
    "\n",
    "    return sp.decode_ids(generated[0].tolist())\n",
    "\n",
    "\n",
    "def clean_generated_text(text, pad_token='<PAD>'):\n",
    "    text = text.split(pad_token)[0].strip()\n",
    "    text = text.replace('<LINE>', '\\n').replace('<PAD>', '').strip()\n",
    "    return text"
   ]
  },
  {
   "cell_type": "code",
   "execution_count": 28,
   "metadata": {},
   "outputs": [
    {
     "name": "stdout",
     "output_type": "stream",
     "text": [
      "Shall I compare thee to a summer's day my heart become oppress way bloom willful your nimble are' pains that gives way, cool praises of me, what was fleeting race. alent Time my heart sway. no longer wish's relentless rise swaye, invest, when every inclination in time unyielding?s rich blazety dy, lines, my strife and blunders on sea, strife, pain in prospers,, a soothings me, my trace and own dar igno page adorned another, muse'll endure, power the one and I acceptt me to leavety halt, bitter remor their, must made your add.'s your secret the current, my sighs, in holding backed: love. touch, though whisper, her longing my own part, man., I'll oppose. life.s a despair, must life:ing souls. my time. affection.\n"
     ]
    }
   ],
   "source": [
    "model.eval()\n",
    "\n",
    "start_text = \"Shall I compare thee to a summer's day\"  # or any prompt you want\n",
    "generated_sonnet = generate_sonnet_sampling(model, sp, start_text, max_length=256, device='cuda')\n",
    "\n",
    "parsed = clean_generated_text(generated_sonnet, pad_token='<PAD>')\n",
    "print(parsed)"
   ]
  },
  {
   "cell_type": "markdown",
   "metadata": {},
   "source": [
    "# **A Larger Model**"
   ]
  },
  {
   "cell_type": "code",
   "execution_count": 29,
   "metadata": {},
   "outputs": [],
   "source": [
    "import torch\n",
    "import torch.nn as nn\n",
    "import torch.nn.functional as F\n",
    "\n",
    "class TransformerBlock(nn.Module):\n",
    "    def __init__(self, embedding_dim, num_heads, dropout=0.1):\n",
    "        super().__init__()\n",
    "        self.mha = nn.MultiheadAttention(embed_dim=embedding_dim, num_heads=num_heads, batch_first=True)\n",
    "        self.norm1 = nn.LayerNorm(embedding_dim)\n",
    "        self.dropout1 = nn.Dropout(dropout)\n",
    "        \n",
    "        self.ff = nn.Sequential(\n",
    "            nn.Linear(embedding_dim, embedding_dim * 4),\n",
    "            nn.GELU(),\n",
    "            nn.Linear(embedding_dim * 4, embedding_dim),\n",
    "        )\n",
    "        self.norm2 = nn.LayerNorm(embedding_dim)\n",
    "        self.dropout2 = nn.Dropout(dropout)\n",
    "        \n",
    "    def forward(self, x):\n",
    "        # Multi-head attention with residual & layernorm\n",
    "        attn_output, _ = self.mha(x, x, x)\n",
    "        x = self.norm1(x + self.dropout1(attn_output))\n",
    "        \n",
    "        # Feed-forward with residual & layernorm\n",
    "        ff_output = self.ff(x)\n",
    "        x = self.norm2(x + self.dropout2(ff_output))\n",
    "        return x\n",
    "\n",
    "\n",
    "class LargerTransformerModel(nn.Module):\n",
    "    def __init__(self, vocab_size, seq_len, embedding_dim=256, num_heads=8, num_layers=6, dropout=0.1):\n",
    "        super().__init__()\n",
    "        self.embedding = nn.Embedding(vocab_size, embedding_dim)\n",
    "        self.position_embedding = nn.Embedding(seq_len, embedding_dim)\n",
    "        \n",
    "        self.layers = nn.ModuleList([\n",
    "            TransformerBlock(embedding_dim, num_heads, dropout) for _ in range(num_layers)\n",
    "        ])\n",
    "        \n",
    "        self.ln_f = nn.LayerNorm(embedding_dim)\n",
    "        self.head = nn.Linear(embedding_dim, vocab_size)\n",
    "        \n",
    "    def forward(self, x):\n",
    "        batch_size, seq_len = x.size()\n",
    "        positions = torch.arange(seq_len, device=x.device).unsqueeze(0).expand(batch_size, seq_len)\n",
    "        \n",
    "        x = self.embedding(x) + self.position_embedding(positions)\n",
    "        \n",
    "        for layer in self.layers:\n",
    "            x = layer(x)\n",
    "        \n",
    "        x = self.ln_f(x)\n",
    "        logits = self.head(x)\n",
    "        return logits"
   ]
  },
  {
   "cell_type": "code",
   "execution_count": 30,
   "metadata": {},
   "outputs": [],
   "source": [
    "model2 = LargerTransformerModel(\n",
    "    vocab_size=4000, \n",
    "    seq_len=256, \n",
    "    embedding_dim=256, \n",
    "    num_heads=8, \n",
    "    num_layers=6, \n",
    "    dropout=0.1\n",
    ").to(device)\n",
    "\n",
    "optimizer2 = Adam(model2.parameters(), lr=1e-4)"
   ]
  },
  {
   "cell_type": "code",
   "execution_count": 31,
   "metadata": {},
   "outputs": [
    {
     "name": "stderr",
     "output_type": "stream",
     "text": [
      " 23%|██▎       | 232/1000 [08:28<28:03,  2.19s/it]"
     ]
    },
    {
     "name": "stdout",
     "output_type": "stream",
     "text": [
      "Early stopping at epoch 232 due to no improvement.\n"
     ]
    },
    {
     "name": "stderr",
     "output_type": "stream",
     "text": [
      "\n"
     ]
    }
   ],
   "source": [
    "# Initialize early stopping parameters\n",
    "patience = 5  # Number of epochs with no improvement before stopping\n",
    "best_loss = float('inf')\n",
    "epochs_without_improvement = 0\n",
    "losses = []\n",
    "\n",
    "for epoch in tqdm(range(1000)):\n",
    "    loss = train_one_epoch(model2, optimizer2, train_loader)\n",
    "\n",
    "    losses.append(loss)\n",
    "    \n",
    "    # Track loss for early stopping\n",
    "    if loss < best_loss:\n",
    "        best_loss = loss\n",
    "        epochs_without_improvement = 0\n",
    "    else:\n",
    "        epochs_without_improvement += 1\n",
    "    \n",
    "    # If no improvement after 'patience' epochs, stop training\n",
    "    if epochs_without_improvement >= patience:\n",
    "        print(f\"Early stopping at epoch {epoch} due to no improvement.\")\n",
    "        break\n",
    "    \n",
    "    # Optionally, you can save a checkpoint after each epoch or after improvements\n",
    "    # You could save a checkpoint here to resume later if something goes wrong\n",
    "    if epoch % 50 == 0:  # Save a checkpoint every 10 epochs, for example\n",
    "        torch.save(model2.state_dict(), f\"./model/model2_checkpoint_epoch_{epoch}.pth\")\n"
   ]
  },
  {
   "cell_type": "code",
   "execution_count": 32,
   "metadata": {},
   "outputs": [
    {
     "data": {
      "image/png": "[encoded data removed]",
      "text/plain": [
       "<Figure size 640x480 with 1 Axes>"
      ]
     },
     "metadata": {},
     "output_type": "display_data"
    }
   ],
   "source": [
    "# Graph the losses per epoch\n",
    "import matplotlib.pyplot as plt\n",
    "\n",
    "plt.plot(losses)\n",
    "plt.xlabel('Epoch')\n",
    "plt.ylabel('Loss')\n",
    "plt.title('Training Loss Over Epochs')\n",
    "plt.grid()\n",
    "plt.show()"
   ]
  },
  {
   "cell_type": "code",
   "execution_count": 37,
   "metadata": {},
   "outputs": [
    {
     "name": "stdout",
     "output_type": "stream",
     "text": [
      "Shall I compare thee to a summer's day dawnute beauty be said thorn. ample like day fades \n",
      " That longing seize their own side \n",
      " For forsak spirits rain by its sweetness, sorrow till its let us. lock a gift life. \n",
      " Bef this fading \n",
      "  ⁇  they cast away, one must be that crown? very work, a cherished Bur, be like a spirit lives to let them us far above Both forms beauty. ch cast me a treasure her tender true harmony, as beauty un devoid of false, relentless For one, once relinquished, loving within one. \n",
      " With a hour. \n",
      " Then you, let me be a heavy hourful, a beauty fate entwined, a radiant as a lovely still beauty, he proted with tears, he linger. \n",
      " as they engage, even in this radiant dayful canker've been what in you beed\n"
     ]
    }
   ],
   "source": [
    "model2.eval()\n",
    "\n",
    "start_text = \"Shall I compare thee to a summer's day\"  # or any prompt you want\n",
    "raw = generate_sonnet(model2, sp, start_text, max_length=256, device='cuda')\n",
    "generated_sonnet = clean_generated_text(raw, pad_token='<PAD>')\n",
    "print(generated_sonnet)"
   ]
  },
  {
   "cell_type": "code",
   "execution_count": 38,
   "metadata": {},
   "outputs": [
    {
     "name": "stdout",
     "output_type": "stream",
     "text": [
      "Shall I compare thee to a summer's day its speech, with a soul a soul within a by its a fleeting dancetur Reerred, a soul, lost each charm, there, a life life \n",
      " Whose new, ever Dear, unique, eartht, leadred bound a breath, a glass, they by a a parted a spirit shall made: a fleeting, a soul be stolen. swirl, be solace. Emerg adversary had Revealing a a gentleeath a she intens we Believe as stars find sweet son you squandered, a joy marveled by thee, brief a dear. animate eternaled by hearts entwined in a fleeting a banish, inter punishment a life, sweet reward a as Creat hourglass dominion over thee, sweet release deph a moment many, forlorn, a soul, a journey a glory, we find solace.\n"
     ]
    }
   ],
   "source": [
    "model2.eval()\n",
    "\n",
    "start_text = \"Shall I compare thee to a summer's day\"  # or any prompt you want\n",
    "generated_sonnet = generate_sonnet_sampling(model2, sp, start_text, max_length=256, device='cuda')\n",
    "\n",
    "parsed = clean_generated_text(generated_sonnet, pad_token='<PAD>')\n",
    "print(parsed)"
   ]
  },
  {
   "cell_type": "markdown",
   "metadata": {},
   "source": [
    "# **Valorization of Line Breaks and Rhymes**"
   ]
  },
  {
   "cell_type": "code",
   "execution_count": 57,
   "metadata": {},
   "outputs": [],
   "source": [
    "# Define rhyme scheme tokens\n",
    "rhyme_classes = ['A', 'B', 'C', 'D', 'E', 'F', 'G']\n",
    "\n",
    "def add_rhyme_tokens(sonnet_text, rhyme_scheme=\"ABABCDCDEFEFGG\", target_lines=14):\n",
    "    \"\"\"\n",
    "    Insert rhyme tokens at the end of each line of the sonnet based on rhyme scheme.\n",
    "    Pads or truncates sonnets to `target_lines` lines.\n",
    "    \n",
    "    sonnet_text: str, full sonnet text with lines separated by <LINE> tokens\n",
    "    rhyme_scheme: str, e.g. Shakespeare’s 14-line sonnet scheme\n",
    "    target_lines: int, number of lines to pad/truncate to (default 14)\n",
    "    \n",
    "    Returns: sonnet text with rhyme tokens inserted at line ends, padded/truncated to target_lines\n",
    "    \"\"\"\n",
    "    # Split sonnet into lines\n",
    "    lines = sonnet_text.split('<LINE>')\n",
    "    lines = [line.strip() for line in lines if line.strip()]  # Remove empty lines\n",
    "    \n",
    "    # Pad with empty lines if too short\n",
    "    if len(lines) < target_lines:\n",
    "        lines += [''] * (target_lines - len(lines))\n",
    "    # Truncate if too long\n",
    "    elif len(lines) > target_lines:\n",
    "        lines = lines[:target_lines]\n",
    "    \n",
    "    # Adjust rhyme scheme length to target_lines\n",
    "    rhyme_scheme = rhyme_scheme[:target_lines]\n",
    "    \n",
    "    # Append rhyme token at end of each line\n",
    "    lines_with_rhyme = [\n",
    "        line + f\" <rhyme_{rhyme_scheme[i]}>\" for i, line in enumerate(lines)\n",
    "    ]\n",
    "    \n",
    "    # Re-join with <LINE>\n",
    "    return \" <LINE> \".join(lines_with_rhyme)\n"
   ]
  },
  {
   "cell_type": "code",
   "execution_count": 60,
   "metadata": {},
   "outputs": [
    {
     "data": {
      "text/html": [
       "<div>\n",
       "<style scoped>\n",
       "    .dataframe tbody tr th:only-of-type {\n",
       "        vertical-align: middle;\n",
       "    }\n",
       "\n",
       "    .dataframe tbody tr th {\n",
       "        vertical-align: top;\n",
       "    }\n",
       "\n",
       "    .dataframe thead th {\n",
       "        text-align: right;\n",
       "    }\n",
       "</style>\n",
       "<table border=\"1\" class=\"dataframe\">\n",
       "  <thead>\n",
       "    <tr style=\"text-align: right;\">\n",
       "      <th></th>\n",
       "      <th>Sonnet Number</th>\n",
       "      <th>Variation Number</th>\n",
       "      <th>Variation Text</th>\n",
       "      <th>tokenized_sonnet</th>\n",
       "      <th>rhyme_sonnet</th>\n",
       "    </tr>\n",
       "  </thead>\n",
       "  <tbody>\n",
       "    <tr>\n",
       "      <th>0</th>\n",
       "      <td>1</td>\n",
       "      <td>1</td>\n",
       "      <td>Desire for growth in loveliest of beings, &lt;LIN...</td>\n",
       "      <td>[1989, 30, 3528, 12, 2144, 104, 15, 1489, 6, 5...</td>\n",
       "      <td>Desire for growth in loveliest of beings, &lt;rhy...</td>\n",
       "    </tr>\n",
       "    <tr>\n",
       "      <th>1</th>\n",
       "      <td>1</td>\n",
       "      <td>2</td>\n",
       "      <td>In the fairest of beings, we crave increase, &lt;...</td>\n",
       "      <td>[24, 10, 210, 104, 15, 1489, 6, 112, 1018, 750...</td>\n",
       "      <td>In the fairest of beings, we crave increase, &lt;...</td>\n",
       "    </tr>\n",
       "    <tr>\n",
       "      <th>2</th>\n",
       "      <td>1</td>\n",
       "      <td>3</td>\n",
       "      <td>For fairest beings, we yearn for more to grace...</td>\n",
       "      <td>[42, 210, 104, 1489, 6, 112, 763, 30, 109, 16,...</td>\n",
       "      <td>For fairest beings, we yearn for more to grace...</td>\n",
       "    </tr>\n",
       "    <tr>\n",
       "      <th>3</th>\n",
       "      <td>2</td>\n",
       "      <td>1</td>\n",
       "      <td>As forty winters carve their icy lines on your...</td>\n",
       "      <td>[101, 30, 820, 2751, 1242, 47, 5, 3647, 228, 5...</td>\n",
       "      <td>As forty winters carve their icy lines on your...</td>\n",
       "    </tr>\n",
       "    <tr>\n",
       "      <th>4</th>\n",
       "      <td>2</td>\n",
       "      <td>2</td>\n",
       "      <td>When winter's hand has etched its stories on y...</td>\n",
       "      <td>[91, 276, 9, 7, 163, 144, 5, 1271, 43, 1378, 5...</td>\n",
       "      <td>When winter's hand has etched its stories on y...</td>\n",
       "    </tr>\n",
       "  </tbody>\n",
       "</table>\n",
       "</div>"
      ],
      "text/plain": [
       "   Sonnet Number  Variation Number  \\\n",
       "0              1                 1   \n",
       "1              1                 2   \n",
       "2              1                 3   \n",
       "3              2                 1   \n",
       "4              2                 2   \n",
       "\n",
       "                                      Variation Text  \\\n",
       "0  Desire for growth in loveliest of beings, <LIN...   \n",
       "1  In the fairest of beings, we crave increase, <...   \n",
       "2  For fairest beings, we yearn for more to grace...   \n",
       "3  As forty winters carve their icy lines on your...   \n",
       "4  When winter's hand has etched its stories on y...   \n",
       "\n",
       "                                    tokenized_sonnet  \\\n",
       "0  [1989, 30, 3528, 12, 2144, 104, 15, 1489, 6, 5...   \n",
       "1  [24, 10, 210, 104, 15, 1489, 6, 112, 1018, 750...   \n",
       "2  [42, 210, 104, 1489, 6, 112, 763, 30, 109, 16,...   \n",
       "3  [101, 30, 820, 2751, 1242, 47, 5, 3647, 228, 5...   \n",
       "4  [91, 276, 9, 7, 163, 144, 5, 1271, 43, 1378, 5...   \n",
       "\n",
       "                                        rhyme_sonnet  \n",
       "0  Desire for growth in loveliest of beings, <rhy...  \n",
       "1  In the fairest of beings, we crave increase, <...  \n",
       "2  For fairest beings, we yearn for more to grace...  \n",
       "3  As forty winters carve their icy lines on your...  \n",
       "4  When winter's hand has etched its stories on y...  "
      ]
     },
     "execution_count": 60,
     "metadata": {},
     "output_type": "execute_result"
    }
   ],
   "source": [
    "df[\"rhyme_sonnet\"] = df[\"Variation Text\"].apply(add_rhyme_tokens)\n",
    "df.head()"
   ]
  },
  {
   "cell_type": "code",
   "execution_count": 61,
   "metadata": {},
   "outputs": [],
   "source": [
    "with open('./data/sonnets_rhymes_train.txt', 'w', encoding='utf-8') as f:\n",
    "    for sonnet in df['rhyme_sonnet']:\n",
    "        f.write(sonnet + '\\n')\n"
   ]
  },
  {
   "cell_type": "code",
   "execution_count": 62,
   "metadata": {},
   "outputs": [
    {
     "name": "stderr",
     "output_type": "stream",
     "text": [
      "sentencepiece_trainer.cc(78) LOG(INFO) Starts training with : \n",
      "trainer_spec {\n",
      "  input: ./data/sonnets_rhymes_train.txt\n",
      "  input_format: \n",
      "  model_prefix: ./model/my_rhyme_tokenizer\n",
      "  model_type: UNIGRAM\n",
      "  vocab_size: 4000\n",
      "  self_test_sample_size: 0\n",
      "  character_coverage: 0.9995\n",
      "  input_sentence_size: 0\n",
      "  shuffle_input_sentence: 1\n",
      "  seed_sentencepiece_size: 1000000\n",
      "  shrinking_factor: 0.75\n",
      "  max_sentence_length: 4192\n",
      "  num_threads: 16\n",
      "  num_sub_iterations: 2\n",
      "  max_sentencepiece_length: 16\n",
      "  split_by_unicode_script: 1\n",
      "  split_by_number: 1\n",
      "  split_by_whitespace: 1\n",
      "  split_digits: 0\n",
      "  pretokenization_delimiter: \n",
      "  treat_whitespace_as_suffix: 0\n",
      "  allow_whitespace_only_pieces: 0\n",
      "  user_defined_symbols: <LINE>\n",
      "  user_defined_symbols: <PAD>\n",
      "  user_defined_symbols: <rhyme_A>\n",
      "  user_defined_symbols: <rhyme_B>\n",
      "  user_defined_symbols: <rhyme_C>\n",
      "  user_defined_symbols: <rhyme_D>\n",
      "  user_defined_symbols: <rhyme_E>\n",
      "  user_defined_symbols: <rhyme_F>\n",
      "  user_defined_symbols: <rhyme_G>\n",
      "  required_chars: \n",
      "  byte_fallback: 0\n",
      "  vocabulary_output_piece_score: 1\n",
      "  train_extremely_large_corpus: 0\n",
      "  seed_sentencepieces_file: \n",
      "  hard_vocab_limit: 1\n",
      "  use_all_vocab: 0\n",
      "  unk_id: 0\n",
      "  bos_id: 1\n",
      "  eos_id: 2\n",
      "  pad_id: -1\n",
      "  unk_piece: <unk>\n",
      "  bos_piece: <s>\n",
      "  eos_piece: </s>\n",
      "  pad_piece: <pad>\n",
      "  unk_surface:  ⁇ \n",
      "  enable_differential_privacy: 0\n",
      "  differential_privacy_noise_level: 0\n",
      "  differential_privacy_clipping_threshold: 0\n",
      "}\n",
      "normalizer_spec {\n",
      "  name: nmt_nfkc\n",
      "  add_dummy_prefix: 1\n",
      "  remove_extra_whitespaces: 1\n",
      "  escape_whitespaces: 1\n",
      "  normalization_rule_tsv: \n",
      "}\n",
      "denormalizer_spec {}\n",
      "trainer_interface.cc(353) LOG(INFO) SentenceIterator is not specified. Using MultiFileSentenceIterator.\n",
      "trainer_interface.cc(185) LOG(INFO) Loading corpus: ./data/sonnets_rhymes_train.txt\n",
      "trainer_interface.cc(409) LOG(INFO) Loaded all 460 sentences\n",
      "trainer_interface.cc(425) LOG(INFO) Adding meta_piece: <unk>\n",
      "trainer_interface.cc(425) LOG(INFO) Adding meta_piece: <s>\n",
      "trainer_interface.cc(425) LOG(INFO) Adding meta_piece: </s>\n",
      "trainer_interface.cc(425) LOG(INFO) Adding meta_piece: <LINE>\n",
      "trainer_interface.cc(425) LOG(INFO) Adding meta_piece: <PAD>\n",
      "trainer_interface.cc(425) LOG(INFO) Adding meta_piece: <rhyme_A>\n",
      "trainer_interface.cc(425) LOG(INFO) Adding meta_piece: <rhyme_B>\n",
      "trainer_interface.cc(425) LOG(INFO) Adding meta_piece: <rhyme_C>\n",
      "trainer_interface.cc(425) LOG(INFO) Adding meta_piece: <rhyme_D>\n",
      "trainer_interface.cc(425) LOG(INFO) Adding meta_piece: <rhyme_E>\n",
      "trainer_interface.cc(425) LOG(INFO) Adding meta_piece: <rhyme_F>\n",
      "trainer_interface.cc(425) LOG(INFO) Adding meta_piece: <rhyme_G>\n",
      "trainer_interface.cc(430) LOG(INFO) Normalizing sentences...\n",
      "trainer_interface.cc(539) LOG(INFO) all chars count=307185\n",
      "trainer_interface.cc(550) LOG(INFO) Done: 99.9593% characters are covered.\n",
      "trainer_interface.cc(560) LOG(INFO) Alphabet size=54\n",
      "trainer_interface.cc(561) LOG(INFO) Final character coverage=0.999593\n",
      "trainer_interface.cc(592) LOG(INFO) Done! preprocessed 460 sentences.\n",
      "unigram_model_trainer.cc(265) LOG(INFO) Making suffix array...\n",
      "unigram_model_trainer.cc(269) LOG(INFO) Extracting frequent sub strings... node_num=168796\n",
      "unigram_model_trainer.cc(312) LOG(INFO) Initialized 15487 seed sentencepieces\n",
      "trainer_interface.cc(598) LOG(INFO) Tokenizing input sentences with whitespace: 460\n",
      "trainer_interface.cc(609) LOG(INFO) Done! 9486\n",
      "unigram_model_trainer.cc(602) LOG(INFO) Using 9486 sentences for EM training\n",
      "unigram_model_trainer.cc(618) LOG(INFO) EM sub_iter=0 size=5975 obj=14.496 num_tokens=18995 num_tokens/piece=3.17908\n",
      "unigram_model_trainer.cc(618) LOG(INFO) EM sub_iter=1 size=5099 obj=12.6668 num_tokens=19229 num_tokens/piece=3.77113\n",
      "unigram_model_trainer.cc(618) LOG(INFO) EM sub_iter=0 size=4366 obj=12.71 num_tokens=19958 num_tokens/piece=4.57123\n",
      "unigram_model_trainer.cc(618) LOG(INFO) EM sub_iter=1 size=4357 obj=12.6516 num_tokens=19967 num_tokens/piece=4.58274\n",
      "trainer_interface.cc(687) LOG(INFO) Saving model: ./model/my_rhyme_tokenizer.model\n",
      "trainer_interface.cc(699) LOG(INFO) Saving vocabs: ./model/my_rhyme_tokenizer.vocab\n"
     ]
    }
   ],
   "source": [
    "rhyme_tokens = [f\"<rhyme_{c}>\" for c in rhyme_classes]\n",
    "\n",
    "user_defined_symbols = ['<LINE>', \"<PAD>\"] + rhyme_tokens\n",
    "\n",
    "spm.SentencePieceTrainer.train(\n",
    "    input='./data/sonnets_rhymes_train.txt',\n",
    "    model_prefix='./model/my_rhyme_tokenizer',\n",
    "    vocab_size=4000,\n",
    "    user_defined_symbols=user_defined_symbols,\n",
    ")"
   ]
  },
  {
   "cell_type": "code",
   "execution_count": 81,
   "metadata": {},
   "outputs": [
    {
     "name": "stdout",
     "output_type": "stream",
     "text": [
      "Desire for growth in loveliest of beings, <rhyme_A> <LINE> To keep beauty's bloom from meeting end, <rhyme_B> <LINE> As aging gives way, new life life extends, <rhyme_A> <LINE> The legacy of loveliness to commend. <rhyme_B> <LINE> Yet you, confined to your own bright gaze, <rhyme_C> <LINE> Nourish your light's fire with self-same fuel, <rhyme_D> <LINE> Creating hunger in a land of bounty's maze, <rhyme_C> <LINE> An enemy unto your own self, far too cruel. <rhyme_D> <LINE> You, now the earth's resplendent decor, <rhyme_E> <LINE> And harbinger of spring in all its splendor, <rhyme_F> <LINE> In your own bud, treasure your delight, <rhyme_E> <LINE> A miserly act, wasting wonders center. <rhyme_F> <LINE> Have mercy on the world, or this insatiate wight, <rhyme_G> <LINE> Shall consume what's owed, by death and thee. <rhyme_G>\n",
      "[1993, 37, 3529, 19, 2169, 113, 22, 1485, 13, 12, 5, 12, 3, 52, 242, 56, 16, 14, 249, 57, 1097, 27, 206, 13, 12, 6, 12, 3, 104, 28, 3730, 1297, 392, 13, 250, 83, 83, 2723, 13, 12, 5, 12, 3, 32, 644, 22, 2008, 23, 3461, 15, 12, 6, 12, 3, 68, 25, 13, 711, 23, 20, 67, 140, 155, 13, 12, 7, 12, 3, 72, 3009, 20, 100, 16, 14, 257, 43, 154, 85, 1292, 1896, 13, 12, 8, 12, 3, 2539, 27, 874, 19, 28, 615, 22, 953, 16, 14, 2014, 13, 12, 7, 12, 3, 110, 2000, 2634, 20, 67, 154, 13, 265, 189, 252, 15, 12, 8, 12, 3, 158, 13, 86, 17, 233, 16, 14, 284, 524, 334, 2154, 266, 13, 12, 9, 12, 3, 26, 38, 3023, 27, 92, 22, 468, 19, 69, 50, 507, 13, 12, 10, 12, 3, 31, 20, 67, 1093, 13, 219, 20, 160, 13, 12, 9, 12, 3, 26, 1726, 61, 980, 13, 168, 758, 975, 14, 3392, 15, 12, 10, 12, 3, 475, 77, 1099, 58, 17, 128, 13, 82, 53, 1898, 760, 806, 618, 13, 12, 11, 12, 3, 235, 215, 617, 93, 16, 14, 12, 2911, 13, 39, 420, 24, 107, 15, 12, 11]\n"
     ]
    }
   ],
   "source": [
    "# 4. Load the trained tokenizer\n",
    "sp = spm.SentencePieceProcessor()\n",
    "sp.load('./model/my_rhyme_tokenizer.model')\n",
    "\n",
    "# 5. Tokenize each sonnet in the DataFrame\n",
    "def tokenize_sonnet(text):\n",
    "    return sp.encode_as_ids(text)\n",
    "\n",
    "df['tokenized_rhyme_sonnet'] = df['rhyme_sonnet'].apply(tokenize_sonnet)\n",
    "\n",
    "# Example: print tokenized pieces for the first sonnet\n",
    "print(df.loc[0, 'rhyme_sonnet'])\n",
    "print(df.loc[0, 'tokenized_rhyme_sonnet'])"
   ]
  },
  {
   "cell_type": "code",
   "execution_count": 65,
   "metadata": {},
   "outputs": [
    {
     "name": "stdout",
     "output_type": "stream",
     "text": [
      "torch.Size([460, 277])\n"
     ]
    }
   ],
   "source": [
    "max_len = df['tokenized_rhyme_sonnet'].apply(len).max()\n",
    "\n",
    "# Pad the tokenized sonnets\n",
    "padded_sonnets = pad_tokenized_sonnets(df['tokenized_rhyme_sonnet'].tolist(), pad_id=sp.piece_to_id('<PAD>'), max_len=max_len)\n",
    "\n",
    "# Example: print the shape of the padded tensor\n",
    "print(padded_sonnets.shape)  # Should be (batch_size, max_seq_len)"
   ]
  },
  {
   "cell_type": "code",
   "execution_count": 71,
   "metadata": {},
   "outputs": [],
   "source": [
    "X = padded_sonnets  # torch.LongTensor\n",
    "\n",
    "# y: X shifted left by 1 (next token prediction), pad last token with 0 or ignore_index\n",
    "y = torch.zeros_like(X)\n",
    "y[:, :-1] = X[:, 1:]\n",
    "y[:, -1] = sp.pad_id()  # or any padding token id to ignore last token prediction\n",
    "\n",
    "dataset = TensorDataset(X, y)\n",
    "\n",
    "# Create a DataLoader with a batch size (adjust batch size to fit your GPU)\n",
    "batch_size = 16  # Adjust based on GPU memory\n",
    "train_loader = DataLoader(dataset, batch_size=batch_size, shuffle=True)"
   ]
  },
  {
   "cell_type": "code",
   "execution_count": 72,
   "metadata": {},
   "outputs": [],
   "source": [
    "model = ClassifierWithMHAPositionEncoding(vocab_size=4000, seq_len=max_len, embedding_dim=128).to(device)\n",
    "optimizer = Adam(model.parameters(), lr=1e-4)"
   ]
  },
  {
   "cell_type": "code",
   "execution_count": 75,
   "metadata": {},
   "outputs": [],
   "source": [
    "vocab_size = sp.get_piece_size()\n",
    "weights = torch.ones(vocab_size, device=device)\n",
    "line_token_id = sp.piece_to_id('<LINE>')\n",
    "weights[line_token_id] = 5.0  # adjust multiplier as you like\n",
    "\n",
    "rhyme_classes = ['A', 'B', 'C', 'D', 'E', 'F', 'G']\n",
    "for rhyme in rhyme_classes:\n",
    "    token = f\"<rhyme_{rhyme}>\"\n",
    "    token_id = sp.piece_to_id(token)\n",
    "    weights[token_id] = 5.0  # same multiplier or adjust individually if desired\n",
    "\n",
    "# Define loss with weights and ignore pad token\n",
    "criterion = nn.CrossEntropyLoss(weight=weights, ignore_index=sp.pad_id())"
   ]
  },
  {
   "cell_type": "code",
   "execution_count": 76,
   "metadata": {},
   "outputs": [],
   "source": [
    "def train_one_epoch_v2(model, optimizer, criterion, data_loader):\n",
    "    model.train()\n",
    "    optimizer.zero_grad()\n",
    "    \n",
    "    # Loop over batches in data_loader\n",
    "    total_loss = 0.0\n",
    "    for x_batch, y_batch in data_loader:\n",
    "        # Move the batch to the correct device (GPU/CPU)\n",
    "        x_batch, y_batch = x_batch.to(device), y_batch.to(device)\n",
    "\n",
    "        # Forward pass\n",
    "        output = model(x_batch)  # output shape: (batch_size, seq_len, vocab_size)\n",
    "\n",
    "        # Flatten output and target tensors\n",
    "        output = output.view(-1, output.size(-1))  # Flatten to (batch_size * seq_len, vocab_size)\n",
    "        y_batch = y_batch.view(-1)  # Flatten to (batch_size * seq_len)\n",
    "\n",
    "        # Calculate loss\n",
    "        loss = criterion(output, y_batch)  # Use padding token if needed\n",
    "        \n",
    "        # Backpropagation\n",
    "        loss.backward()\n",
    "\n",
    "        # Optimizer step\n",
    "        optimizer.step()\n",
    "\n",
    "        # Zero gradients for the next batch\n",
    "        optimizer.zero_grad()\n",
    "        \n",
    "        # Clear GPU memory (optional, but useful for large batches)\n",
    "        torch.cuda.empty_cache()\n",
    "\n",
    "        # Add to total loss for the epoch\n",
    "        total_loss += loss.item()\n",
    "\n",
    "    return total_loss / len(data_loader)"
   ]
  },
  {
   "cell_type": "code",
   "execution_count": 77,
   "metadata": {},
   "outputs": [
    {
     "name": "stderr",
     "output_type": "stream",
     "text": [
      " 67%|██████▋   | 671/1000 [03:28<01:42,  3.22it/s]"
     ]
    },
    {
     "name": "stdout",
     "output_type": "stream",
     "text": [
      "Early stopping at epoch 671 due to no improvement.\n"
     ]
    },
    {
     "name": "stderr",
     "output_type": "stream",
     "text": [
      "\n"
     ]
    }
   ],
   "source": [
    "# Initialize early stopping parameters\n",
    "patience = 5  # Number of epochs with no improvement before stopping\n",
    "best_loss = float('inf')\n",
    "epochs_without_improvement = 0\n",
    "losses = []\n",
    "\n",
    "for epoch in tqdm(range(1000)):\n",
    "    loss = train_one_epoch_v2(model, optimizer, criterion, train_loader)\n",
    "\n",
    "    losses.append(loss)\n",
    "    \n",
    "    # Track loss for early stopping\n",
    "    if loss < best_loss:\n",
    "        best_loss = loss\n",
    "        epochs_without_improvement = 0\n",
    "    else:\n",
    "        epochs_without_improvement += 1\n",
    "    \n",
    "    # If no improvement after 'patience' epochs, stop training\n",
    "    if epochs_without_improvement >= patience:\n",
    "        print(f\"Early stopping at epoch {epoch} due to no improvement.\")\n",
    "        break\n",
    "    \n",
    "    # Optionally, you can save a checkpoint after each epoch or after improvements\n",
    "    # You could save a checkpoint here to resume later if something goes wrong\n",
    "    if epoch % 10 == 0:  # Save a checkpoint every 10 epochs, for example\n",
    "        torch.save(model.state_dict(), f\"./model/rhyme_model_checkpoint_epoch_{epoch}.pth\")\n"
   ]
  },
  {
   "cell_type": "code",
   "execution_count": 78,
   "metadata": {},
   "outputs": [
    {
     "data": {
      "image/png": "[encoded data removed]",
      "text/plain": [
       "<Figure size 640x480 with 1 Axes>"
      ]
     },
     "metadata": {},
     "output_type": "display_data"
    }
   ],
   "source": [
    "# Graph the losses per epoch\n",
    "import matplotlib.pyplot as plt\n",
    "\n",
    "plt.plot(losses)\n",
    "plt.xlabel('Epoch')\n",
    "plt.ylabel('Loss')\n",
    "plt.title('Training Loss Over Epochs')\n",
    "plt.grid()\n",
    "plt.show()"
   ]
  },
  {
   "cell_type": "code",
   "execution_count": 79,
   "metadata": {},
   "outputs": [
    {
     "name": "stdout",
     "output_type": "stream",
     "text": [
      "Shall I compare thee to a summer's day's a summer thee a love a summer thee summer a distantpts a summer thee trifles pages to thee a life to a a rose a to a a summer is life obscure a summer thee summer a loves a distantes a heart is truly summereludein to a more grievouss a a summer Exp-turn see I'mm summer's summer' a summer's harshs artful a summer thus've on a love on a summer lent summered in a life held life grieve bear; a to summer is harsh summerin harsh to thee flame. summerstituts summerlm share end held life's enemy love shall life love end summer' sweet theft's sweet theft' memory rill's harsh summer higher, summer win me a follow thee rewardes love a fee; summer're end moment past. watch a father ism summer've a melody mis lost love a to bear witness to you theeore my love's flight summer to keepm mark is end draws life're a more rareelude bear witnessm summer've a captive a confess my beloveds him bem history, nor summer to a summer'vethrift a life bear. bliss wisdom's obscure by all combinedre made winds by bear; flattery's pride bear witnessm summer to absol commands\n"
     ]
    }
   ],
   "source": [
    "model.eval()\n",
    "\n",
    "start_text = \"Shall I compare thee to a summer's day\"  # or any prompt you want\n",
    "generated_sonnet = generate_sonnet(model, sp, start_text, max_length=max_len, device='cuda')\n",
    "print(generated_sonnet)"
   ]
  },
  {
   "cell_type": "code",
   "execution_count": 83,
   "metadata": {},
   "outputs": [
    {
     "name": "stdout",
     "output_type": "stream",
     "text": [
      "Shall I compare thee to a summer's day's a summer thee a love a summer thee summer a heart a summer to a summer trifles de summer force-feit a a heart a to a re-dark' need, love a summer a heart'ual. summer to a to' place. summer to a summer thee more rare a heart summer to's to absol am held to a heart summer summer a mother'able sin past artful sharp thee flame, a to love a more scowled past. summer comprehend a more grievous burden from a heart embrace to summer thy a to amend express to thee burden to a to a summer past. summer's a soul's summer's summer's stronghold dance to witness, is heart' day trade your past. summer's summer' miss triumphant's summer're hearty him summer's end moments end to a mother a spiritly re burden end to- a to thee to grace day summer to yourward past. youth on desert thee a mother is heart from thee summer to thee pasts summer's summer' day, may wanders birth, to summer's him to incite's on summer to thee summer's flame of affection to summer' heart's obscureore. summer past past a trance youth, to a to summer's promise him to a mother to\n"
     ]
    }
   ],
   "source": [
    "model.eval()\n",
    "\n",
    "start_text = \"Shall I compare thee to a summer's day\"  # or any prompt you want\n",
    "generated_sonnet = generate_sonnet_sampling(model, sp, start_text, max_length=max_len, device='cuda')\n",
    "\n",
    "parsed = clean_generated_text(generated_sonnet, pad_token='<PAD>')\n",
    "print(parsed)"
   ]
  },
  {
   "cell_type": "code",
   "execution_count": 84,
   "metadata": {},
   "outputs": [
    {
     "name": "stdout",
     "output_type": "stream",
     "text": [
      "Shall I compare thee to a summer's day <rhyme_A> \n",
      " Shall remove remove part share summers content raise thee more a heart is more to time is is a life a chronicle is met you held tos birth time is naught part summer more's is heighten is love a to lose is more should love a summer more lent is a more radiant heart that summer more is a more gaze gaze is is more a mother's mes ornament on a room' then rebuil love then is a widow more over lent full more a time then summer' speed still' ignos birth thought is met share thee vessel penned is often time's dot suffer love' moments thought islived more a memory grants wander is ease, time have reproach is torn apart ever is doth suffer truth distilled that time gaze is your love a queen apples summer's glow moreness for is a heart summer more exists force is end a father still unfulfilled a to tests lost is its then more grants theft more in a queen dwells within is favor endating eulogies canker more remainsly love's more in their mu's sweet embrace iss lights truth still love;s fest; is estranged from is is best lost in serviceable past then more rare more is a mirror call is to light is a wasting love that summer's then refuge lies more\n"
     ]
    }
   ],
   "source": [
    "start_text = \"Shall I compare thee to a summer's day <rhyme_A> <LINE>\"\n",
    "generated_sonnet = generate_sonnet_sampling(model, sp, start_text, max_length=max_len, device='cuda')\n",
    "\n",
    "parsed = clean_generated_text(generated_sonnet, pad_token='<PAD>')\n",
    "print(parsed)"
   ]
  },
  {
   "cell_type": "code",
   "execution_count": null,
   "metadata": {},
   "outputs": [],
   "source": []
  }
 ],
 "metadata": {
  "kernelspec": {
   "display_name": "nlp-shakespeare",
   "language": "python",
   "name": "python3"
  },
  "language_info": {
   "codemirror_mode": {
    "name": "ipython",
    "version": 3
   },
   "file_extension": ".py",
   "mimetype": "text/x-python",
   "name": "python",
   "nbconvert_exporter": "python",
   "pygments_lexer": "ipython3",
   "version": "3.10.17"
  }
 },
 "nbformat": 4,
 "nbformat_minor": 2
}
